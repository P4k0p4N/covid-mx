{
 "cells": [
  {
   "cell_type": "code",
   "execution_count": 1,
   "metadata": {
    "extensions": {
     "jupyter_dashboards": {
      "version": 1,
      "views": {
       "grid_default": {},
       "report_default": {
        "hidden": true
       }
      }
     }
    },
    "nbpresent": {
     "id": "651a9cd7-e72a-419e-94d2-a7fd33b9fefe"
    },
    "slideshow": {
     "slide_type": "skip"
    }
   },
   "outputs": [],
   "source": [
    "import pandas as pd\n",
    "import numpy as np\n",
    "import matplotlib as mpl\n",
    "import matplotlib.pyplot as plt\n",
    "from matplotlib.text import OffsetFrom\n",
    "from matplotlib import ticker, dates\n",
    "#import imgkit\n",
    "%matplotlib inline\n",
    "pd.set_option('max_rows',200)\n",
    "pd.set_option('min_rows',100)\n",
    "from ipywidgets import interact, interactive,fixed, interact_manual\n",
    "import ipywidgets as widgets"
   ]
  },
  {
   "cell_type": "markdown",
   "metadata": {
    "extensions": {
     "jupyter_dashboards": {
      "version": 1,
      "views": {
       "grid_default": {},
       "report_default": {
        "hidden": true
       }
      }
     }
    },
    "nbpresent": {
     "id": "76453cea-33d4-4609-a819-7307f00e05e2"
    },
    "slideshow": {
     "slide_type": "skip"
    }
   },
   "source": [
    "## Import all Tables"
   ]
  },
  {
   "cell_type": "markdown",
   "metadata": {
    "extensions": {
     "jupyter_dashboards": {
      "version": 1,
      "views": {
       "grid_default": {},
       "report_default": {
        "hidden": true
       }
      }
     }
    },
    "nbpresent": {
     "id": "8bebbbb0-8046-4264-b304-aa1a3ff450e7"
    },
    "slideshow": {
     "slide_type": "skip"
    }
   },
   "source": [
    "### Covid Raw data"
   ]
  },
  {
   "cell_type": "code",
   "execution_count": 2,
   "metadata": {
    "extensions": {
     "jupyter_dashboards": {
      "version": 1,
      "views": {
       "grid_default": {},
       "report_default": {
        "hidden": true
       }
      }
     }
    },
    "nbpresent": {
     "id": "8aa4f080-65d2-497c-b21c-7826efb1c229"
    },
    "slideshow": {
     "slide_type": "skip"
    }
   },
   "outputs": [
    {
     "ename": "URLError",
     "evalue": "<urlopen error [Errno 60] Operation timed out>",
     "output_type": "error",
     "traceback": [
      "\u001b[0;31m---------------------------------------------------------------------------\u001b[0m",
      "\u001b[0;31mTimeoutError\u001b[0m                              Traceback (most recent call last)",
      "\u001b[0;32m/Users/pacopan/anaconda3/envs/DSPy/lib/python3.7/urllib/request.py\u001b[0m in \u001b[0;36mdo_open\u001b[0;34m(self, http_class, req, **http_conn_args)\u001b[0m\n\u001b[1;32m   1316\u001b[0m                 h.request(req.get_method(), req.selector, req.data, headers,\n\u001b[0;32m-> 1317\u001b[0;31m                           encode_chunked=req.has_header('Transfer-encoding'))\n\u001b[0m\u001b[1;32m   1318\u001b[0m             \u001b[0;32mexcept\u001b[0m \u001b[0mOSError\u001b[0m \u001b[0;32mas\u001b[0m \u001b[0merr\u001b[0m\u001b[0;34m:\u001b[0m \u001b[0;31m# timeout error\u001b[0m\u001b[0;34m\u001b[0m\u001b[0m\n",
      "\u001b[0;32m/Users/pacopan/anaconda3/envs/DSPy/lib/python3.7/http/client.py\u001b[0m in \u001b[0;36mrequest\u001b[0;34m(self, method, url, body, headers, encode_chunked)\u001b[0m\n\u001b[1;32m   1228\u001b[0m         \u001b[0;34m\"\"\"Send a complete request to the server.\"\"\"\u001b[0m\u001b[0;34m\u001b[0m\u001b[0m\n\u001b[0;32m-> 1229\u001b[0;31m         \u001b[0mself\u001b[0m\u001b[0;34m.\u001b[0m\u001b[0m_send_request\u001b[0m\u001b[0;34m(\u001b[0m\u001b[0mmethod\u001b[0m\u001b[0;34m,\u001b[0m \u001b[0murl\u001b[0m\u001b[0;34m,\u001b[0m \u001b[0mbody\u001b[0m\u001b[0;34m,\u001b[0m \u001b[0mheaders\u001b[0m\u001b[0;34m,\u001b[0m \u001b[0mencode_chunked\u001b[0m\u001b[0;34m)\u001b[0m\u001b[0;34m\u001b[0m\u001b[0m\n\u001b[0m\u001b[1;32m   1230\u001b[0m \u001b[0;34m\u001b[0m\u001b[0m\n",
      "\u001b[0;32m/Users/pacopan/anaconda3/envs/DSPy/lib/python3.7/http/client.py\u001b[0m in \u001b[0;36m_send_request\u001b[0;34m(self, method, url, body, headers, encode_chunked)\u001b[0m\n\u001b[1;32m   1274\u001b[0m             \u001b[0mbody\u001b[0m \u001b[0;34m=\u001b[0m \u001b[0m_encode\u001b[0m\u001b[0;34m(\u001b[0m\u001b[0mbody\u001b[0m\u001b[0;34m,\u001b[0m \u001b[0;34m'body'\u001b[0m\u001b[0;34m)\u001b[0m\u001b[0;34m\u001b[0m\u001b[0m\n\u001b[0;32m-> 1275\u001b[0;31m         \u001b[0mself\u001b[0m\u001b[0;34m.\u001b[0m\u001b[0mendheaders\u001b[0m\u001b[0;34m(\u001b[0m\u001b[0mbody\u001b[0m\u001b[0;34m,\u001b[0m \u001b[0mencode_chunked\u001b[0m\u001b[0;34m=\u001b[0m\u001b[0mencode_chunked\u001b[0m\u001b[0;34m)\u001b[0m\u001b[0;34m\u001b[0m\u001b[0m\n\u001b[0m\u001b[1;32m   1276\u001b[0m \u001b[0;34m\u001b[0m\u001b[0m\n",
      "\u001b[0;32m/Users/pacopan/anaconda3/envs/DSPy/lib/python3.7/http/client.py\u001b[0m in \u001b[0;36mendheaders\u001b[0;34m(self, message_body, encode_chunked)\u001b[0m\n\u001b[1;32m   1223\u001b[0m             \u001b[0;32mraise\u001b[0m \u001b[0mCannotSendHeader\u001b[0m\u001b[0;34m(\u001b[0m\u001b[0;34m)\u001b[0m\u001b[0;34m\u001b[0m\u001b[0m\n\u001b[0;32m-> 1224\u001b[0;31m         \u001b[0mself\u001b[0m\u001b[0;34m.\u001b[0m\u001b[0m_send_output\u001b[0m\u001b[0;34m(\u001b[0m\u001b[0mmessage_body\u001b[0m\u001b[0;34m,\u001b[0m \u001b[0mencode_chunked\u001b[0m\u001b[0;34m=\u001b[0m\u001b[0mencode_chunked\u001b[0m\u001b[0;34m)\u001b[0m\u001b[0;34m\u001b[0m\u001b[0m\n\u001b[0m\u001b[1;32m   1225\u001b[0m \u001b[0;34m\u001b[0m\u001b[0m\n",
      "\u001b[0;32m/Users/pacopan/anaconda3/envs/DSPy/lib/python3.7/http/client.py\u001b[0m in \u001b[0;36m_send_output\u001b[0;34m(self, message_body, encode_chunked)\u001b[0m\n\u001b[1;32m   1015\u001b[0m         \u001b[0;32mdel\u001b[0m \u001b[0mself\u001b[0m\u001b[0;34m.\u001b[0m\u001b[0m_buffer\u001b[0m\u001b[0;34m[\u001b[0m\u001b[0;34m:\u001b[0m\u001b[0;34m]\u001b[0m\u001b[0;34m\u001b[0m\u001b[0m\n\u001b[0;32m-> 1016\u001b[0;31m         \u001b[0mself\u001b[0m\u001b[0;34m.\u001b[0m\u001b[0msend\u001b[0m\u001b[0;34m(\u001b[0m\u001b[0mmsg\u001b[0m\u001b[0;34m)\u001b[0m\u001b[0;34m\u001b[0m\u001b[0m\n\u001b[0m\u001b[1;32m   1017\u001b[0m \u001b[0;34m\u001b[0m\u001b[0m\n",
      "\u001b[0;32m/Users/pacopan/anaconda3/envs/DSPy/lib/python3.7/http/client.py\u001b[0m in \u001b[0;36msend\u001b[0;34m(self, data)\u001b[0m\n\u001b[1;32m    955\u001b[0m             \u001b[0;32mif\u001b[0m \u001b[0mself\u001b[0m\u001b[0;34m.\u001b[0m\u001b[0mauto_open\u001b[0m\u001b[0;34m:\u001b[0m\u001b[0;34m\u001b[0m\u001b[0m\n\u001b[0;32m--> 956\u001b[0;31m                 \u001b[0mself\u001b[0m\u001b[0;34m.\u001b[0m\u001b[0mconnect\u001b[0m\u001b[0;34m(\u001b[0m\u001b[0;34m)\u001b[0m\u001b[0;34m\u001b[0m\u001b[0m\n\u001b[0m\u001b[1;32m    957\u001b[0m             \u001b[0;32melse\u001b[0m\u001b[0;34m:\u001b[0m\u001b[0;34m\u001b[0m\u001b[0m\n",
      "\u001b[0;32m/Users/pacopan/anaconda3/envs/DSPy/lib/python3.7/http/client.py\u001b[0m in \u001b[0;36mconnect\u001b[0;34m(self)\u001b[0m\n\u001b[1;32m    927\u001b[0m         self.sock = self._create_connection(\n\u001b[0;32m--> 928\u001b[0;31m             (self.host,self.port), self.timeout, self.source_address)\n\u001b[0m\u001b[1;32m    929\u001b[0m         \u001b[0mself\u001b[0m\u001b[0;34m.\u001b[0m\u001b[0msock\u001b[0m\u001b[0;34m.\u001b[0m\u001b[0msetsockopt\u001b[0m\u001b[0;34m(\u001b[0m\u001b[0msocket\u001b[0m\u001b[0;34m.\u001b[0m\u001b[0mIPPROTO_TCP\u001b[0m\u001b[0;34m,\u001b[0m \u001b[0msocket\u001b[0m\u001b[0;34m.\u001b[0m\u001b[0mTCP_NODELAY\u001b[0m\u001b[0;34m,\u001b[0m \u001b[0;36m1\u001b[0m\u001b[0;34m)\u001b[0m\u001b[0;34m\u001b[0m\u001b[0m\n",
      "\u001b[0;32m/Users/pacopan/anaconda3/envs/DSPy/lib/python3.7/socket.py\u001b[0m in \u001b[0;36mcreate_connection\u001b[0;34m(address, timeout, source_address)\u001b[0m\n\u001b[1;32m    726\u001b[0m     \u001b[0;32mif\u001b[0m \u001b[0merr\u001b[0m \u001b[0;32mis\u001b[0m \u001b[0;32mnot\u001b[0m \u001b[0;32mNone\u001b[0m\u001b[0;34m:\u001b[0m\u001b[0;34m\u001b[0m\u001b[0m\n\u001b[0;32m--> 727\u001b[0;31m         \u001b[0;32mraise\u001b[0m \u001b[0merr\u001b[0m\u001b[0;34m\u001b[0m\u001b[0m\n\u001b[0m\u001b[1;32m    728\u001b[0m     \u001b[0;32melse\u001b[0m\u001b[0;34m:\u001b[0m\u001b[0;34m\u001b[0m\u001b[0m\n",
      "\u001b[0;32m/Users/pacopan/anaconda3/envs/DSPy/lib/python3.7/socket.py\u001b[0m in \u001b[0;36mcreate_connection\u001b[0;34m(address, timeout, source_address)\u001b[0m\n\u001b[1;32m    715\u001b[0m                 \u001b[0msock\u001b[0m\u001b[0;34m.\u001b[0m\u001b[0mbind\u001b[0m\u001b[0;34m(\u001b[0m\u001b[0msource_address\u001b[0m\u001b[0;34m)\u001b[0m\u001b[0;34m\u001b[0m\u001b[0m\n\u001b[0;32m--> 716\u001b[0;31m             \u001b[0msock\u001b[0m\u001b[0;34m.\u001b[0m\u001b[0mconnect\u001b[0m\u001b[0;34m(\u001b[0m\u001b[0msa\u001b[0m\u001b[0;34m)\u001b[0m\u001b[0;34m\u001b[0m\u001b[0m\n\u001b[0m\u001b[1;32m    717\u001b[0m             \u001b[0;31m# Break explicitly a reference cycle\u001b[0m\u001b[0;34m\u001b[0m\u001b[0;34m\u001b[0m\u001b[0m\n",
      "\u001b[0;31mTimeoutError\u001b[0m: [Errno 60] Operation timed out",
      "\nDuring handling of the above exception, another exception occurred:\n",
      "\u001b[0;31mURLError\u001b[0m                                  Traceback (most recent call last)",
      "\u001b[0;32m<ipython-input-2-60db50691c91>\u001b[0m in \u001b[0;36m<module>\u001b[0;34m()\u001b[0m\n\u001b[1;32m      1\u001b[0m \u001b[0murl\u001b[0m\u001b[0;34m=\u001b[0m\u001b[0;34m\"http://187.191.75.115/gobmx/salud/datos_abiertos/datos_abiertos_covid19.zip\"\u001b[0m\u001b[0;34m\u001b[0m\u001b[0m\n\u001b[0;32m----> 2\u001b[0;31m \u001b[0mcovid\u001b[0m \u001b[0;34m=\u001b[0m \u001b[0mpd\u001b[0m\u001b[0;34m.\u001b[0m\u001b[0mread_csv\u001b[0m\u001b[0;34m(\u001b[0m\u001b[0murl\u001b[0m\u001b[0;34m,\u001b[0m\u001b[0mparse_dates\u001b[0m\u001b[0;34m=\u001b[0m\u001b[0;32mTrue\u001b[0m\u001b[0;34m,\u001b[0m \u001b[0mencoding\u001b[0m\u001b[0;34m=\u001b[0m\u001b[0;34m\"mac_roman\"\u001b[0m\u001b[0;34m,\u001b[0m\u001b[0mdtype\u001b[0m\u001b[0;34m=\u001b[0m\u001b[0;34m{\u001b[0m\u001b[0;34m\"ENTIDAD_RES\"\u001b[0m\u001b[0;34m:\u001b[0m\u001b[0;34m'object'\u001b[0m\u001b[0;34m,\u001b[0m\u001b[0;34m\"MUNICIPIO_RES\"\u001b[0m\u001b[0;34m:\u001b[0m\u001b[0;34m'object'\u001b[0m\u001b[0;34m}\u001b[0m\u001b[0;34m)\u001b[0m\u001b[0;34m\u001b[0m\u001b[0m\n\u001b[0m\u001b[1;32m      3\u001b[0m \u001b[0mcovid\u001b[0m\u001b[0;34m[\u001b[0m\u001b[0;34m\"FECHA_ACTUALIZACION\"\u001b[0m\u001b[0;34m]\u001b[0m\u001b[0;34m=\u001b[0m\u001b[0mpd\u001b[0m\u001b[0;34m.\u001b[0m\u001b[0mto_datetime\u001b[0m\u001b[0;34m(\u001b[0m\u001b[0mcovid\u001b[0m\u001b[0;34m[\u001b[0m\u001b[0;34m\"FECHA_ACTUALIZACION\"\u001b[0m\u001b[0;34m]\u001b[0m\u001b[0;34m)\u001b[0m\u001b[0;31m#,format=\"%d/%m/%Y\")\u001b[0m\u001b[0;34m\u001b[0m\u001b[0m\n\u001b[1;32m      4\u001b[0m \u001b[0mcovid\u001b[0m\u001b[0;34m[\u001b[0m\u001b[0;34m\"FECHA_INGRESO\"\u001b[0m\u001b[0;34m]\u001b[0m\u001b[0;34m=\u001b[0m\u001b[0mpd\u001b[0m\u001b[0;34m.\u001b[0m\u001b[0mto_datetime\u001b[0m\u001b[0;34m(\u001b[0m\u001b[0mcovid\u001b[0m\u001b[0;34m[\u001b[0m\u001b[0;34m\"FECHA_INGRESO\"\u001b[0m\u001b[0;34m]\u001b[0m\u001b[0;34m)\u001b[0m\u001b[0;31m#,format=\"%d/%m/%Y\")\u001b[0m\u001b[0;34m\u001b[0m\u001b[0m\n\u001b[1;32m      5\u001b[0m \u001b[0mcovid\u001b[0m\u001b[0;34m[\u001b[0m\u001b[0;34m\"FECHA_SINTOMAS\"\u001b[0m\u001b[0;34m]\u001b[0m\u001b[0;34m=\u001b[0m\u001b[0mpd\u001b[0m\u001b[0;34m.\u001b[0m\u001b[0mto_datetime\u001b[0m\u001b[0;34m(\u001b[0m\u001b[0mcovid\u001b[0m\u001b[0;34m[\u001b[0m\u001b[0;34m\"FECHA_SINTOMAS\"\u001b[0m\u001b[0;34m]\u001b[0m\u001b[0;34m)\u001b[0m\u001b[0;31m#,format=\"%d/%m/%Y\")\u001b[0m\u001b[0;34m\u001b[0m\u001b[0m\n",
      "\u001b[0;32m/Users/pacopan/anaconda3/envs/DSPy/lib/python3.7/site-packages/pandas/io/parsers.py\u001b[0m in \u001b[0;36mparser_f\u001b[0;34m(filepath_or_buffer, sep, delimiter, header, names, index_col, usecols, squeeze, prefix, mangle_dupe_cols, dtype, engine, converters, true_values, false_values, skipinitialspace, skiprows, skipfooter, nrows, na_values, keep_default_na, na_filter, verbose, skip_blank_lines, parse_dates, infer_datetime_format, keep_date_col, date_parser, dayfirst, cache_dates, iterator, chunksize, compression, thousands, decimal, lineterminator, quotechar, quoting, doublequote, escapechar, comment, encoding, dialect, error_bad_lines, warn_bad_lines, delim_whitespace, low_memory, memory_map, float_precision)\u001b[0m\n\u001b[1;32m    674\u001b[0m         )\n\u001b[1;32m    675\u001b[0m \u001b[0;34m\u001b[0m\u001b[0m\n\u001b[0;32m--> 676\u001b[0;31m         \u001b[0;32mreturn\u001b[0m \u001b[0m_read\u001b[0m\u001b[0;34m(\u001b[0m\u001b[0mfilepath_or_buffer\u001b[0m\u001b[0;34m,\u001b[0m \u001b[0mkwds\u001b[0m\u001b[0;34m)\u001b[0m\u001b[0;34m\u001b[0m\u001b[0m\n\u001b[0m\u001b[1;32m    677\u001b[0m \u001b[0;34m\u001b[0m\u001b[0m\n\u001b[1;32m    678\u001b[0m     \u001b[0mparser_f\u001b[0m\u001b[0;34m.\u001b[0m\u001b[0m__name__\u001b[0m \u001b[0;34m=\u001b[0m \u001b[0mname\u001b[0m\u001b[0;34m\u001b[0m\u001b[0m\n",
      "\u001b[0;32m/Users/pacopan/anaconda3/envs/DSPy/lib/python3.7/site-packages/pandas/io/parsers.py\u001b[0m in \u001b[0;36m_read\u001b[0;34m(filepath_or_buffer, kwds)\u001b[0m\n\u001b[1;32m    429\u001b[0m     \u001b[0;31m# See https://github.com/python/mypy/issues/1297\u001b[0m\u001b[0;34m\u001b[0m\u001b[0;34m\u001b[0m\u001b[0m\n\u001b[1;32m    430\u001b[0m     fp_or_buf, _, compression, should_close = get_filepath_or_buffer(\n\u001b[0;32m--> 431\u001b[0;31m         \u001b[0mfilepath_or_buffer\u001b[0m\u001b[0;34m,\u001b[0m \u001b[0mencoding\u001b[0m\u001b[0;34m,\u001b[0m \u001b[0mcompression\u001b[0m\u001b[0;34m\u001b[0m\u001b[0m\n\u001b[0m\u001b[1;32m    432\u001b[0m     )\n\u001b[1;32m    433\u001b[0m     \u001b[0mkwds\u001b[0m\u001b[0;34m[\u001b[0m\u001b[0;34m\"compression\"\u001b[0m\u001b[0;34m]\u001b[0m \u001b[0;34m=\u001b[0m \u001b[0mcompression\u001b[0m\u001b[0;34m\u001b[0m\u001b[0m\n",
      "\u001b[0;32m/Users/pacopan/anaconda3/envs/DSPy/lib/python3.7/site-packages/pandas/io/common.py\u001b[0m in \u001b[0;36mget_filepath_or_buffer\u001b[0;34m(filepath_or_buffer, encoding, compression, mode)\u001b[0m\n\u001b[1;32m    170\u001b[0m \u001b[0;34m\u001b[0m\u001b[0m\n\u001b[1;32m    171\u001b[0m     \u001b[0;32mif\u001b[0m \u001b[0misinstance\u001b[0m\u001b[0;34m(\u001b[0m\u001b[0mfilepath_or_buffer\u001b[0m\u001b[0;34m,\u001b[0m \u001b[0mstr\u001b[0m\u001b[0;34m)\u001b[0m \u001b[0;32mand\u001b[0m \u001b[0mis_url\u001b[0m\u001b[0;34m(\u001b[0m\u001b[0mfilepath_or_buffer\u001b[0m\u001b[0;34m)\u001b[0m\u001b[0;34m:\u001b[0m\u001b[0;34m\u001b[0m\u001b[0m\n\u001b[0;32m--> 172\u001b[0;31m         \u001b[0mreq\u001b[0m \u001b[0;34m=\u001b[0m \u001b[0murlopen\u001b[0m\u001b[0;34m(\u001b[0m\u001b[0mfilepath_or_buffer\u001b[0m\u001b[0;34m)\u001b[0m\u001b[0;34m\u001b[0m\u001b[0m\n\u001b[0m\u001b[1;32m    173\u001b[0m         \u001b[0mcontent_encoding\u001b[0m \u001b[0;34m=\u001b[0m \u001b[0mreq\u001b[0m\u001b[0;34m.\u001b[0m\u001b[0mheaders\u001b[0m\u001b[0;34m.\u001b[0m\u001b[0mget\u001b[0m\u001b[0;34m(\u001b[0m\u001b[0;34m\"Content-Encoding\"\u001b[0m\u001b[0;34m,\u001b[0m \u001b[0;32mNone\u001b[0m\u001b[0;34m)\u001b[0m\u001b[0;34m\u001b[0m\u001b[0m\n\u001b[1;32m    174\u001b[0m         \u001b[0;32mif\u001b[0m \u001b[0mcontent_encoding\u001b[0m \u001b[0;34m==\u001b[0m \u001b[0;34m\"gzip\"\u001b[0m\u001b[0;34m:\u001b[0m\u001b[0;34m\u001b[0m\u001b[0m\n",
      "\u001b[0;32m/Users/pacopan/anaconda3/envs/DSPy/lib/python3.7/site-packages/pandas/io/common.py\u001b[0m in \u001b[0;36murlopen\u001b[0;34m(*args, **kwargs)\u001b[0m\n\u001b[1;32m    139\u001b[0m     \u001b[0;32mimport\u001b[0m \u001b[0murllib\u001b[0m\u001b[0;34m.\u001b[0m\u001b[0mrequest\u001b[0m\u001b[0;34m\u001b[0m\u001b[0m\n\u001b[1;32m    140\u001b[0m \u001b[0;34m\u001b[0m\u001b[0m\n\u001b[0;32m--> 141\u001b[0;31m     \u001b[0;32mreturn\u001b[0m \u001b[0murllib\u001b[0m\u001b[0;34m.\u001b[0m\u001b[0mrequest\u001b[0m\u001b[0;34m.\u001b[0m\u001b[0murlopen\u001b[0m\u001b[0;34m(\u001b[0m\u001b[0;34m*\u001b[0m\u001b[0margs\u001b[0m\u001b[0;34m,\u001b[0m \u001b[0;34m**\u001b[0m\u001b[0mkwargs\u001b[0m\u001b[0;34m)\u001b[0m\u001b[0;34m\u001b[0m\u001b[0m\n\u001b[0m\u001b[1;32m    142\u001b[0m \u001b[0;34m\u001b[0m\u001b[0m\n\u001b[1;32m    143\u001b[0m \u001b[0;34m\u001b[0m\u001b[0m\n",
      "\u001b[0;32m/Users/pacopan/anaconda3/envs/DSPy/lib/python3.7/urllib/request.py\u001b[0m in \u001b[0;36murlopen\u001b[0;34m(url, data, timeout, cafile, capath, cadefault, context)\u001b[0m\n\u001b[1;32m    220\u001b[0m     \u001b[0;32melse\u001b[0m\u001b[0;34m:\u001b[0m\u001b[0;34m\u001b[0m\u001b[0m\n\u001b[1;32m    221\u001b[0m         \u001b[0mopener\u001b[0m \u001b[0;34m=\u001b[0m \u001b[0m_opener\u001b[0m\u001b[0;34m\u001b[0m\u001b[0m\n\u001b[0;32m--> 222\u001b[0;31m     \u001b[0;32mreturn\u001b[0m \u001b[0mopener\u001b[0m\u001b[0;34m.\u001b[0m\u001b[0mopen\u001b[0m\u001b[0;34m(\u001b[0m\u001b[0murl\u001b[0m\u001b[0;34m,\u001b[0m \u001b[0mdata\u001b[0m\u001b[0;34m,\u001b[0m \u001b[0mtimeout\u001b[0m\u001b[0;34m)\u001b[0m\u001b[0;34m\u001b[0m\u001b[0m\n\u001b[0m\u001b[1;32m    223\u001b[0m \u001b[0;34m\u001b[0m\u001b[0m\n\u001b[1;32m    224\u001b[0m \u001b[0;32mdef\u001b[0m \u001b[0minstall_opener\u001b[0m\u001b[0;34m(\u001b[0m\u001b[0mopener\u001b[0m\u001b[0;34m)\u001b[0m\u001b[0;34m:\u001b[0m\u001b[0;34m\u001b[0m\u001b[0m\n",
      "\u001b[0;32m/Users/pacopan/anaconda3/envs/DSPy/lib/python3.7/urllib/request.py\u001b[0m in \u001b[0;36mopen\u001b[0;34m(self, fullurl, data, timeout)\u001b[0m\n\u001b[1;32m    523\u001b[0m             \u001b[0mreq\u001b[0m \u001b[0;34m=\u001b[0m \u001b[0mmeth\u001b[0m\u001b[0;34m(\u001b[0m\u001b[0mreq\u001b[0m\u001b[0;34m)\u001b[0m\u001b[0;34m\u001b[0m\u001b[0m\n\u001b[1;32m    524\u001b[0m \u001b[0;34m\u001b[0m\u001b[0m\n\u001b[0;32m--> 525\u001b[0;31m         \u001b[0mresponse\u001b[0m \u001b[0;34m=\u001b[0m \u001b[0mself\u001b[0m\u001b[0;34m.\u001b[0m\u001b[0m_open\u001b[0m\u001b[0;34m(\u001b[0m\u001b[0mreq\u001b[0m\u001b[0;34m,\u001b[0m \u001b[0mdata\u001b[0m\u001b[0;34m)\u001b[0m\u001b[0;34m\u001b[0m\u001b[0m\n\u001b[0m\u001b[1;32m    526\u001b[0m \u001b[0;34m\u001b[0m\u001b[0m\n\u001b[1;32m    527\u001b[0m         \u001b[0;31m# post-process response\u001b[0m\u001b[0;34m\u001b[0m\u001b[0;34m\u001b[0m\u001b[0m\n",
      "\u001b[0;32m/Users/pacopan/anaconda3/envs/DSPy/lib/python3.7/urllib/request.py\u001b[0m in \u001b[0;36m_open\u001b[0;34m(self, req, data)\u001b[0m\n\u001b[1;32m    541\u001b[0m         \u001b[0mprotocol\u001b[0m \u001b[0;34m=\u001b[0m \u001b[0mreq\u001b[0m\u001b[0;34m.\u001b[0m\u001b[0mtype\u001b[0m\u001b[0;34m\u001b[0m\u001b[0m\n\u001b[1;32m    542\u001b[0m         result = self._call_chain(self.handle_open, protocol, protocol +\n\u001b[0;32m--> 543\u001b[0;31m                                   '_open', req)\n\u001b[0m\u001b[1;32m    544\u001b[0m         \u001b[0;32mif\u001b[0m \u001b[0mresult\u001b[0m\u001b[0;34m:\u001b[0m\u001b[0;34m\u001b[0m\u001b[0m\n\u001b[1;32m    545\u001b[0m             \u001b[0;32mreturn\u001b[0m \u001b[0mresult\u001b[0m\u001b[0;34m\u001b[0m\u001b[0m\n",
      "\u001b[0;32m/Users/pacopan/anaconda3/envs/DSPy/lib/python3.7/urllib/request.py\u001b[0m in \u001b[0;36m_call_chain\u001b[0;34m(self, chain, kind, meth_name, *args)\u001b[0m\n\u001b[1;32m    501\u001b[0m         \u001b[0;32mfor\u001b[0m \u001b[0mhandler\u001b[0m \u001b[0;32min\u001b[0m \u001b[0mhandlers\u001b[0m\u001b[0;34m:\u001b[0m\u001b[0;34m\u001b[0m\u001b[0m\n\u001b[1;32m    502\u001b[0m             \u001b[0mfunc\u001b[0m \u001b[0;34m=\u001b[0m \u001b[0mgetattr\u001b[0m\u001b[0;34m(\u001b[0m\u001b[0mhandler\u001b[0m\u001b[0;34m,\u001b[0m \u001b[0mmeth_name\u001b[0m\u001b[0;34m)\u001b[0m\u001b[0;34m\u001b[0m\u001b[0m\n\u001b[0;32m--> 503\u001b[0;31m             \u001b[0mresult\u001b[0m \u001b[0;34m=\u001b[0m \u001b[0mfunc\u001b[0m\u001b[0;34m(\u001b[0m\u001b[0;34m*\u001b[0m\u001b[0margs\u001b[0m\u001b[0;34m)\u001b[0m\u001b[0;34m\u001b[0m\u001b[0m\n\u001b[0m\u001b[1;32m    504\u001b[0m             \u001b[0;32mif\u001b[0m \u001b[0mresult\u001b[0m \u001b[0;32mis\u001b[0m \u001b[0;32mnot\u001b[0m \u001b[0;32mNone\u001b[0m\u001b[0;34m:\u001b[0m\u001b[0;34m\u001b[0m\u001b[0m\n\u001b[1;32m    505\u001b[0m                 \u001b[0;32mreturn\u001b[0m \u001b[0mresult\u001b[0m\u001b[0;34m\u001b[0m\u001b[0m\n",
      "\u001b[0;32m/Users/pacopan/anaconda3/envs/DSPy/lib/python3.7/urllib/request.py\u001b[0m in \u001b[0;36mhttp_open\u001b[0;34m(self, req)\u001b[0m\n\u001b[1;32m   1343\u001b[0m \u001b[0;34m\u001b[0m\u001b[0m\n\u001b[1;32m   1344\u001b[0m     \u001b[0;32mdef\u001b[0m \u001b[0mhttp_open\u001b[0m\u001b[0;34m(\u001b[0m\u001b[0mself\u001b[0m\u001b[0;34m,\u001b[0m \u001b[0mreq\u001b[0m\u001b[0;34m)\u001b[0m\u001b[0;34m:\u001b[0m\u001b[0;34m\u001b[0m\u001b[0m\n\u001b[0;32m-> 1345\u001b[0;31m         \u001b[0;32mreturn\u001b[0m \u001b[0mself\u001b[0m\u001b[0;34m.\u001b[0m\u001b[0mdo_open\u001b[0m\u001b[0;34m(\u001b[0m\u001b[0mhttp\u001b[0m\u001b[0;34m.\u001b[0m\u001b[0mclient\u001b[0m\u001b[0;34m.\u001b[0m\u001b[0mHTTPConnection\u001b[0m\u001b[0;34m,\u001b[0m \u001b[0mreq\u001b[0m\u001b[0;34m)\u001b[0m\u001b[0;34m\u001b[0m\u001b[0m\n\u001b[0m\u001b[1;32m   1346\u001b[0m \u001b[0;34m\u001b[0m\u001b[0m\n\u001b[1;32m   1347\u001b[0m     \u001b[0mhttp_request\u001b[0m \u001b[0;34m=\u001b[0m \u001b[0mAbstractHTTPHandler\u001b[0m\u001b[0;34m.\u001b[0m\u001b[0mdo_request_\u001b[0m\u001b[0;34m\u001b[0m\u001b[0m\n",
      "\u001b[0;32m/Users/pacopan/anaconda3/envs/DSPy/lib/python3.7/urllib/request.py\u001b[0m in \u001b[0;36mdo_open\u001b[0;34m(self, http_class, req, **http_conn_args)\u001b[0m\n\u001b[1;32m   1317\u001b[0m                           encode_chunked=req.has_header('Transfer-encoding'))\n\u001b[1;32m   1318\u001b[0m             \u001b[0;32mexcept\u001b[0m \u001b[0mOSError\u001b[0m \u001b[0;32mas\u001b[0m \u001b[0merr\u001b[0m\u001b[0;34m:\u001b[0m \u001b[0;31m# timeout error\u001b[0m\u001b[0;34m\u001b[0m\u001b[0m\n\u001b[0;32m-> 1319\u001b[0;31m                 \u001b[0;32mraise\u001b[0m \u001b[0mURLError\u001b[0m\u001b[0;34m(\u001b[0m\u001b[0merr\u001b[0m\u001b[0;34m)\u001b[0m\u001b[0;34m\u001b[0m\u001b[0m\n\u001b[0m\u001b[1;32m   1320\u001b[0m             \u001b[0mr\u001b[0m \u001b[0;34m=\u001b[0m \u001b[0mh\u001b[0m\u001b[0;34m.\u001b[0m\u001b[0mgetresponse\u001b[0m\u001b[0;34m(\u001b[0m\u001b[0;34m)\u001b[0m\u001b[0;34m\u001b[0m\u001b[0m\n\u001b[1;32m   1321\u001b[0m         \u001b[0;32mexcept\u001b[0m\u001b[0;34m:\u001b[0m\u001b[0;34m\u001b[0m\u001b[0m\n",
      "\u001b[0;31mURLError\u001b[0m: <urlopen error [Errno 60] Operation timed out>"
     ]
    }
   ],
   "source": [
    "url=\"http://187.191.75.115/gobmx/salud/datos_abiertos/datos_abiertos_covid19.zip\"\n",
    "covid = pd.read_csv(url,parse_dates=True, encoding=\"mac_roman\",dtype={\"ENTIDAD_RES\":'object',\"MUNICIPIO_RES\":'object'})\n",
    "covid[\"FECHA_ACTUALIZACION\"]=pd.to_datetime(covid[\"FECHA_ACTUALIZACION\"])#,format=\"%d/%m/%Y\")\n",
    "covid[\"FECHA_INGRESO\"]=pd.to_datetime(covid[\"FECHA_INGRESO\"])#,format=\"%d/%m/%Y\")\n",
    "covid[\"FECHA_SINTOMAS\"]=pd.to_datetime(covid[\"FECHA_SINTOMAS\"])#,format=\"%d/%m/%Y\")"
   ]
  },
  {
   "cell_type": "code",
   "execution_count": null,
   "metadata": {
    "extensions": {
     "jupyter_dashboards": {
      "version": 1,
      "views": {
       "grid_default": {},
       "report_default": {
        "hidden": true
       }
      }
     }
    },
    "nbpresent": {
     "id": "07c8df8b-bd25-46cf-8b60-19bc8d7ad79e"
    }
   },
   "outputs": [],
   "source": [
    "fecha_actualizaion=covid.iloc[-1,:][\"FECHA_ACTUALIZACION\"]"
   ]
  },
  {
   "cell_type": "markdown",
   "metadata": {
    "extensions": {
     "jupyter_dashboards": {
      "version": 1,
      "views": {
       "grid_default": {},
       "report_default": {
        "hidden": true
       }
      }
     }
    },
    "nbpresent": {
     "id": "610daad2-0d57-495a-bd41-dd7a3358495b"
    },
    "slideshow": {
     "slide_type": "skip"
    }
   },
   "source": [
    "### Fecha de Defunsion"
   ]
  },
  {
   "cell_type": "code",
   "execution_count": null,
   "metadata": {
    "extensions": {
     "jupyter_dashboards": {
      "version": 1,
      "views": {
       "grid_default": {},
       "report_default": {
        "hidden": true
       }
      }
     }
    },
    "nbpresent": {
     "id": "698373f0-9794-494d-a728-32f5c13ac5f3"
    },
    "slideshow": {
     "slide_type": "skip"
    }
   },
   "outputs": [],
   "source": [
    "mask=covid[\"FECHA_DEF\"]==\"9999-99-99\"\n",
    "covid.loc[mask,\"FECHA_DEF\"]=\"NaN\"\n",
    "covid[\"FECHA_DEF\"]=pd.to_datetime(covid[\"FECHA_DEF\"])#,format=\"%d/%m/%Y\")"
   ]
  },
  {
   "cell_type": "markdown",
   "metadata": {
    "extensions": {
     "jupyter_dashboards": {
      "version": 1,
      "views": {
       "grid_default": {},
       "report_default": {
        "hidden": true
       }
      }
     }
    },
    "nbpresent": {
     "id": "3b87abcb-9f3b-4c81-994e-e9f69fb946ca"
    },
    "slideshow": {
     "slide_type": "skip"
    }
   },
   "source": [
    "### Catalogs"
   ]
  },
  {
   "cell_type": "code",
   "execution_count": null,
   "metadata": {
    "extensions": {
     "jupyter_dashboards": {
      "version": 1,
      "views": {
       "grid_default": {},
       "report_default": {
        "hidden": true
       }
      }
     }
    },
    "nbpresent": {
     "id": "0cb36e68-3ce2-48bd-be32-510ca9812b6b"
    },
    "slideshow": {
     "slide_type": "skip"
    }
   },
   "outputs": [],
   "source": [
    "origen=pd.read_excel(\"Catalogos_0412.xlsx\",\"Catálogo ORIGEN\",index_col=\"CLAVE\")"
   ]
  },
  {
   "cell_type": "code",
   "execution_count": null,
   "metadata": {
    "extensions": {
     "jupyter_dashboards": {
      "version": 1,
      "views": {
       "grid_default": {},
       "report_default": {
        "hidden": true
       }
      }
     }
    },
    "nbpresent": {
     "id": "b5e8b414-77a3-4ea2-9ed7-4536f0e3331b"
    },
    "slideshow": {
     "slide_type": "skip"
    }
   },
   "outputs": [],
   "source": [
    "sector=pd.read_excel(\"Catalogos_0412.xlsx\",\"Catálogo SECTOR\",index_col=\"CLAVE\")"
   ]
  },
  {
   "cell_type": "code",
   "execution_count": null,
   "metadata": {
    "extensions": {
     "jupyter_dashboards": {
      "version": 1,
      "views": {
       "grid_default": {},
       "report_default": {
        "hidden": true
       }
      }
     }
    },
    "nbpresent": {
     "id": "398cbd2c-3c6f-4af5-9e49-a1acc7a3452c"
    },
    "slideshow": {
     "slide_type": "skip"
    }
   },
   "outputs": [],
   "source": [
    "sexo=pd.read_excel(\"Catalogos_0412.xlsx\",\"Catálogo SEXO\",index_col=\"CLAVE\")"
   ]
  },
  {
   "cell_type": "code",
   "execution_count": null,
   "metadata": {
    "extensions": {
     "jupyter_dashboards": {
      "version": 1,
      "views": {
       "grid_default": {},
       "report_default": {
        "hidden": true
       }
      }
     }
    },
    "nbpresent": {
     "id": "13ef3122-3249-4d9b-a0e7-4e9ab4ca8e90"
    },
    "slideshow": {
     "slide_type": "skip"
    }
   },
   "outputs": [],
   "source": [
    "entidad=pd.read_excel(\"Catalogos_0412.xlsx\",\"Catálogo ENTIDADES\",dtype='object')"
   ]
  },
  {
   "cell_type": "code",
   "execution_count": null,
   "metadata": {
    "extensions": {
     "jupyter_dashboards": {
      "version": 1,
      "views": {
       "grid_default": {},
       "report_default": {
        "hidden": true
       }
      }
     }
    },
    "nbpresent": {
     "id": "c80f580d-02cd-4ca3-b278-ab356d3bfd1c"
    }
   },
   "outputs": [],
   "source": [
    "entidad.set_index(\"CLAVE_ENTIDAD\",inplace=True, drop=False)"
   ]
  },
  {
   "cell_type": "code",
   "execution_count": null,
   "metadata": {
    "extensions": {
     "jupyter_dashboards": {
      "version": 1,
      "views": {
       "grid_default": {},
       "report_default": {
        "hidden": true
       }
      }
     }
    },
    "nbpresent": {
     "id": "5ba8c6a0-d06b-46ea-8d9c-271924a01b4c"
    },
    "slideshow": {
     "slide_type": "skip"
    }
   },
   "outputs": [],
   "source": [
    "paciente=pd.read_excel(\"Catalogos_0412.xlsx\",\"Catálogo PACIENTE\",index_col=\"CLAVE\")"
   ]
  },
  {
   "cell_type": "code",
   "execution_count": null,
   "metadata": {
    "extensions": {
     "jupyter_dashboards": {
      "version": 1,
      "views": {
       "grid_default": {},
       "report_default": {
        "hidden": true
       }
      }
     }
    },
    "nbpresent": {
     "id": "b2cab404-269a-4227-9d63-fe96d167106c"
    }
   },
   "outputs": [],
   "source": [
    "boo=pd.read_excel(\"Catalogos_0412.xlsx\",\"Catálogo BOOL\",inde_col=\"CLAVE\")"
   ]
  },
  {
   "cell_type": "code",
   "execution_count": null,
   "metadata": {
    "extensions": {
     "jupyter_dashboards": {
      "version": 1,
      "views": {
       "grid_default": {},
       "report_default": {
        "hidden": true
       }
      }
     }
    },
    "nbpresent": {
     "id": "a0b0a48b-3e6d-4828-81ca-9abacfa5b771"
    },
    "slideshow": {
     "slide_type": "skip"
    }
   },
   "outputs": [],
   "source": [
    "nacionalidad=pd.read_excel(\"Catalogos_0412.xlsx\",\"Catálogo NACIONALIDAD\",index_col=\"CLAVE\")"
   ]
  },
  {
   "cell_type": "code",
   "execution_count": null,
   "metadata": {
    "extensions": {
     "jupyter_dashboards": {
      "version": 1,
      "views": {
       "grid_default": {},
       "report_default": {
        "hidden": true
       }
      }
     }
    },
    "nbpresent": {
     "id": "b2208442-bf34-4082-9822-06e74dd28df5"
    },
    "slideshow": {
     "slide_type": "skip"
    }
   },
   "outputs": [],
   "source": [
    "resultado=pd.read_excel(\"Catalogos_0412.xlsx\",\"Catálogo RESULTADO\",index_col=\"CLAVE\")"
   ]
  },
  {
   "cell_type": "code",
   "execution_count": null,
   "metadata": {
    "extensions": {
     "jupyter_dashboards": {
      "version": 1,
      "views": {
       "grid_default": {},
       "report_default": {
        "hidden": true
       }
      }
     }
    },
    "nbpresent": {
     "id": "ac0d330b-edba-4106-841c-1e6ec0877a93"
    },
    "slideshow": {
     "slide_type": "skip"
    }
   },
   "outputs": [],
   "source": [
    "municipio=pd.read_excel(\"Catalogos_0412.xlsx\",\"Catálogo MUNICIPIOS\",dtype='object')"
   ]
  },
  {
   "cell_type": "code",
   "execution_count": null,
   "metadata": {
    "extensions": {
     "jupyter_dashboards": {
      "version": 1,
      "views": {
       "grid_default": {},
       "report_default": {
        "hidden": true
       }
      }
     }
    },
    "nbpresent": {
     "id": "87b90337-c789-47a3-9861-9143dd1c4f19"
    },
    "slideshow": {
     "slide_type": "skip"
    }
   },
   "outputs": [],
   "source": [
    "municipio=municipio.merge(entidad[[\"ENTIDAD_FEDERATIVA\",\"ABREVIATURA\"]], \"left\", left_on=\"CLAVE_ENTIDAD\", right_index=True)"
   ]
  },
  {
   "cell_type": "markdown",
   "metadata": {
    "extensions": {
     "jupyter_dashboards": {
      "version": 1,
      "views": {
       "grid_default": {},
       "report_default": {
        "hidden": true
       }
      }
     }
    },
    "nbpresent": {
     "id": "08fdf059-0afb-4ce5-a9c5-3b23de72d592"
    },
    "slideshow": {
     "slide_type": "skip"
    }
   },
   "source": [
    "### Fixing Catalogo Municipio"
   ]
  },
  {
   "cell_type": "code",
   "execution_count": null,
   "metadata": {
    "extensions": {
     "jupyter_dashboards": {
      "version": 1,
      "views": {
       "grid_default": {},
       "report_default": {
        "hidden": true
       }
      }
     }
    },
    "nbpresent": {
     "id": "6e0b8aa7-c832-424b-908a-8213bb04c89e"
    },
    "slideshow": {
     "slide_type": "skip"
    }
   },
   "outputs": [],
   "source": [
    "covid[\"ENTIDAD_RES\"]=covid[\"ENTIDAD_RES\"].apply(str)\n",
    "covid[\"MUNICIPIO_RES\"]=covid[\"MUNICIPIO_RES\"].apply(str)\n",
    "mun=covid[\"ENTIDAD_RES\"]+covid[\"MUNICIPIO_RES\"]\n",
    "covid.insert(9,\"MUNICIPIOS\",mun)\n",
    "#covid[\"ENTIDAD_RES\"]=covid[\"ENTIDAD_RES\"].astype(int)\n",
    "#covid[\"MUNICIPIOS\"]=covid[\"MUNICIPIOS\"].astype(int)\n",
    "\n",
    "municipio[\"CLAVE_MUNICIPIO\"]=municipio[\"CLAVE_MUNICIPIO\"].apply(str)\n",
    "municipio[\"CLAVE_ENTIDAD\"]=municipio[\"CLAVE_ENTIDAD\"].apply(str)\n",
    "municipio[\"ENT&MUN\"]=municipio[\"CLAVE_ENTIDAD\"]+municipio[\"CLAVE_MUNICIPIO\"]\n",
    "#municipio[\"ENT&MUN\"]=municipio[\"ENT&MUN\"].astype(int)\n",
    "municipio.drop_duplicates(subset=\"ENT&MUN\",inplace=True)\n",
    "municipio.drop([\"CLAVE_ENTIDAD\",\"CLAVE_MUNICIPIO\"],axis=1,inplace=True)\n",
    "municipio.set_index(\"ENT&MUN\",inplace=True,drop=False)"
   ]
  },
  {
   "cell_type": "markdown",
   "metadata": {
    "extensions": {
     "jupyter_dashboards": {
      "version": 1,
      "views": {
       "grid_default": {},
       "report_default": {
        "hidden": true
       }
      }
     }
    },
    "nbpresent": {
     "id": "05bd8bb7-8927-4104-bdf1-bd95f8763641"
    }
   },
   "source": [
    "### Merging Catalogs in covid DataFrame"
   ]
  },
  {
   "cell_type": "code",
   "execution_count": null,
   "metadata": {
    "extensions": {
     "jupyter_dashboards": {
      "version": 1,
      "views": {
       "grid_default": {},
       "report_default": {
        "hidden": true
       }
      }
     }
    },
    "nbpresent": {
     "id": "c221c9cd-3157-4945-90bd-f41847f90210"
    }
   },
   "outputs": [],
   "source": [
    "covid=covid.merge(entidad, \"left\", left_on=\"ENTIDAD_RES\", right_index=True)\n",
    "covid=covid.drop([\"ENTIDAD_UM\",\"ENTIDAD_NAC\",\"ENTIDAD_RES\",\"CLAVE_ENTIDAD\"],axis=1)"
   ]
  },
  {
   "cell_type": "code",
   "execution_count": null,
   "metadata": {
    "extensions": {
     "jupyter_dashboards": {
      "version": 1,
      "views": {
       "grid_default": {},
       "report_default": {
        "hidden": true
       }
      }
     }
    },
    "nbpresent": {
     "id": "f3389983-21be-4367-b903-22bd1423acef"
    }
   },
   "outputs": [],
   "source": [
    "covid=covid.merge(municipio[\"MUNICIPIO\"], \"left\", left_on=\"MUNICIPIOS\", right_index=True)\n",
    "covid=covid.drop([\"MUNICIPIOS\",\"MUNICIPIO_RES\"],axis=1)"
   ]
  },
  {
   "cell_type": "code",
   "execution_count": null,
   "metadata": {
    "extensions": {
     "jupyter_dashboards": {
      "version": 1,
      "views": {
       "grid_default": {},
       "report_default": {
        "hidden": true
       }
      }
     }
    },
    "nbpresent": {
     "id": "e253ab51-020d-4c78-aa31-bc2cca2b3b71"
    }
   },
   "outputs": [],
   "source": [
    "covid=covid.merge(paciente,'left',left_on=\"TIPO_PACIENTE\",right_index=True)\n",
    "covid=covid.drop(\"TIPO_PACIENTE\",axis=1)"
   ]
  },
  {
   "cell_type": "code",
   "execution_count": null,
   "metadata": {
    "extensions": {
     "jupyter_dashboards": {
      "version": 1,
      "views": {
       "grid_default": {},
       "report_default": {
        "hidden": true
       }
      }
     }
    },
    "nbpresent": {
     "id": "f387509f-0c91-48b7-8db1-80dcae4b7d43"
    }
   },
   "outputs": [],
   "source": [
    "covid=covid.merge(sector,'left',left_on=\"SECTOR\",right_index=True)\n",
    "covid=covid.drop(\"SECTOR\",axis=1)"
   ]
  },
  {
   "cell_type": "code",
   "execution_count": null,
   "metadata": {
    "extensions": {
     "jupyter_dashboards": {
      "version": 1,
      "views": {
       "grid_default": {},
       "report_default": {
        "hidden": true
       }
      }
     }
    },
    "nbpresent": {
     "id": "7440201e-bcb9-4b45-be91-90ee3771ae04"
    }
   },
   "outputs": [],
   "source": [
    "covid=covid.merge(sexo,'left',left_on=\"SEXO\",right_index=True)\n",
    "covid=covid.drop(\"SEXO\",axis=1)"
   ]
  },
  {
   "cell_type": "code",
   "execution_count": null,
   "metadata": {
    "extensions": {
     "jupyter_dashboards": {
      "version": 1,
      "views": {
       "grid_default": {},
       "report_default": {
        "hidden": true
       }
      }
     }
    },
    "nbpresent": {
     "id": "c2f8cf51-3c8e-4a97-a2e4-ccfbade2b023"
    }
   },
   "outputs": [],
   "source": [
    "covid=covid.merge(resultado,'left',left_on=\"RESULTADO\",right_index=True)\n",
    "covid=covid.drop(\"RESULTADO\",axis=1)"
   ]
  },
  {
   "cell_type": "code",
   "execution_count": null,
   "metadata": {
    "extensions": {
     "jupyter_dashboards": {
      "version": 1,
      "views": {
       "grid_default": {},
       "report_default": {
        "hidden": true
       }
      }
     }
    },
    "nbpresent": {
     "id": "3edd8d4c-fe4d-44c9-88df-cccab9446d69"
    }
   },
   "outputs": [],
   "source": [
    "covid=covid.drop(['NACIONALIDAD','HABLA_LENGUA_INDIG','MIGRANTE', \n",
    "            'PAIS_NACIONALIDAD','PAIS_ORIGEN'],axis=1)"
   ]
  },
  {
   "cell_type": "markdown",
   "metadata": {
    "extensions": {
     "jupyter_dashboards": {
      "version": 1,
      "views": {
       "grid_default": {},
       "report_default": {
        "hidden": true
       }
      }
     }
    },
    "nbpresent": {
     "id": "bfc653c8-cf49-493f-b279-dc14785ed264"
    }
   },
   "source": [
    "### Converting Si-No to Boolean"
   ]
  },
  {
   "cell_type": "code",
   "execution_count": null,
   "metadata": {
    "extensions": {
     "jupyter_dashboards": {
      "version": 1,
      "views": {
       "grid_default": {},
       "report_default": {
        "hidden": true
       }
      }
     }
    },
    "nbpresent": {
     "id": "aa28edb5-8cab-4d2b-b58c-7d6891d47977"
    }
   },
   "outputs": [],
   "source": [
    "to_boolean=[\"INTUBADO\",\"NEUMONIA\",'EMBARAZO', 'DIABETES',\n",
    "       'EPOC', 'ASMA', 'INMUSUPR', 'HIPERTENSION', 'OTRA_COM',\n",
    "       'CARDIOVASCULAR', 'OBESIDAD', 'RENAL_CRONICA', 'TABAQUISMO',\n",
    "       'OTRO_CASO','UCI']\n",
    "\n",
    "def convert_sino(value):\n",
    "    if value == 1:\n",
    "        return True\n",
    "    elif value == 2:\n",
    "        return False\n",
    "    else:\n",
    "        return \"\"\n",
    "\n",
    "for i in to_boolean:\n",
    "    covid[i]=covid[i].apply(convert_sino).astype(bool)"
   ]
  },
  {
   "cell_type": "markdown",
   "metadata": {
    "extensions": {
     "jupyter_dashboards": {
      "version": 1,
      "views": {
       "grid_default": {},
       "report_default": {
        "hidden": true
       }
      }
     }
    },
    "nbpresent": {
     "id": "43780f22-5342-44fa-ab9f-79e2502607fe"
    }
   },
   "source": [
    "### Add other Columns"
   ]
  },
  {
   "cell_type": "code",
   "execution_count": null,
   "metadata": {
    "extensions": {
     "jupyter_dashboards": {
      "version": 1,
      "views": {
       "grid_default": {},
       "report_default": {
        "hidden": true
       }
      }
     }
    },
    "nbpresent": {
     "id": "4408519e-93d8-45c2-bac6-176725e8d7f0"
    }
   },
   "outputs": [],
   "source": [
    "covid[\"SOSPECHOSO\"]=True\n",
    "covid[\"CONFIRMADO\"] = covid[\"RESULTADOS\"]==\"Positivo SARS-CoV-2\"\n",
    "covid[\"NEGATIVO\"]=covid[\"RESULTADOS\"]==\"No positivo SARS-CoV-2\"\n",
    "covid[\"DEFUNSION\"]=~covid[\"FECHA_DEF\"].isna()\n",
    "covid[\"MUERTE x COVID\"]=covid[\"DEFUNSION\"]&covid[\"CONFIRMADO\"]\n",
    "\n",
    "mask1=covid[\"CONFIRMADO\"]&~covid[\"MUERTE x COVID\"]\n",
    "mask2=(covid[\"FECHA_ACTUALIZACION\"]-covid[\"FECHA_INGRESO\"])>pd.Timedelta(14, unit=\"D\")\n",
    "covid[\"RECUPERADO\"]=mask1&mask2\n",
    "\n",
    "mask1=covid[\"CONFIRMADO\"]\n",
    "mask3=~covid[\"RECUPERADO\"]\n",
    "mask4=~covid[\"MUERTE x COVID\"]\n",
    "covid[\"ACTIVO\"]=mask1&mask3&mask4"
   ]
  },
  {
   "cell_type": "code",
   "execution_count": null,
   "metadata": {
    "extensions": {
     "jupyter_dashboards": {
      "version": 1,
      "views": {
       "grid_default": {},
       "report_default": {
        "hidden": true
       }
      }
     }
    },
    "nbpresent": {
     "id": "dc31e7f5-cc75-4cf1-9510-9e8d78589cc8"
    }
   },
   "outputs": [],
   "source": [
    "covid.rename(columns={\"ENTIDAD_FEDERATIVA\":\"ESTADO\"},inplace=True)"
   ]
  },
  {
   "cell_type": "code",
   "execution_count": null,
   "metadata": {
    "extensions": {
     "jupyter_dashboards": {
      "version": 1,
      "views": {
       "grid_default": {},
       "report_default": {
        "hidden": true
       }
      }
     }
    },
    "nbpresent": {
     "id": "a1a01202-ae7f-44c6-b260-1cf81c8dc569"
    }
   },
   "outputs": [],
   "source": [
    "padecimientos=[\"DIABETES\",\"EPOC\",\"ASMA\",\"INMUSUPR\",\"HIPERTENSION\",\n",
    "            \"CARDIOVASCULAR\",\"OBESIDAD\",\"RENAL_CRONICA\",\"TABAQUISMO\"]"
   ]
  },
  {
   "cell_type": "code",
   "execution_count": null,
   "metadata": {
    "extensions": {
     "jupyter_dashboards": {
      "version": 1,
      "views": {
       "grid_default": {},
       "report_default": {
        "hidden": true
       }
      }
     }
    },
    "nbpresent": {
     "id": "1fa4ec02-9c82-4583-a186-bcb485355f85"
    }
   },
   "outputs": [],
   "source": [
    "covid[\"PADECIMIENTO\"]=covid[padecimientos].sum(axis=1)!=0\n",
    "covid[\"NO PADECIMIENTO\"]=covid[padecimientos].sum(axis=1)==0"
   ]
  },
  {
   "cell_type": "code",
   "execution_count": null,
   "metadata": {
    "extensions": {
     "jupyter_dashboards": {
      "version": 1,
      "views": {
       "grid_default": {},
       "report_default": {
        "hidden": true
       }
      }
     }
    },
    "nbpresent": {
     "id": "57f33391-9994-4079-b0eb-e51d99516398"
    }
   },
   "outputs": [],
   "source": [
    "covid.loc[covid['RECUPERADO'] ==True, \"STATUS\"] = \"RECUPERADO\"\n",
    "covid.loc[covid['ACTIVO'] ==True, \"STATUS\"] = \"ACTIVO\"\n",
    "covid.loc[covid['MUERTE x COVID'] ==True, \"STATUS\"] = \"DECESO\"\n",
    "covid[\"STATUS\"]=covid[\"STATUS\"].astype(\"category\")"
   ]
  },
  {
   "cell_type": "code",
   "execution_count": null,
   "metadata": {
    "extensions": {
     "jupyter_dashboards": {
      "version": 1,
      "views": {
       "grid_default": {},
       "report_default": {
        "hidden": true
       }
      }
     }
    },
    "nbpresent": {
     "id": "74709694-a32b-4c95-8501-55a7b0376fb8"
    }
   },
   "outputs": [],
   "source": [
    "covid.iloc[:,22:29]=covid.iloc[:,22:29].astype(\"category\")"
   ]
  },
  {
   "cell_type": "markdown",
   "metadata": {
    "extensions": {
     "jupyter_dashboards": {
      "version": 1,
      "views": {
       "grid_default": {},
       "report_default": {
        "hidden": true
       }
      }
     }
    },
    "nbpresent": {
     "id": "6725b9d7-7147-4c80-bc82-3754c06befeb"
    }
   },
   "source": [
    "## Pivots & Graphs"
   ]
  },
  {
   "cell_type": "code",
   "execution_count": null,
   "metadata": {
    "extensions": {
     "jupyter_dashboards": {
      "version": 1,
      "views": {
       "grid_default": {},
       "report_default": {
        "hidden": true
       }
      }
     }
    },
    "nbpresent": {
     "id": "fc61e55f-b3e1-4cb5-9dda-dda621c845ea"
    }
   },
   "outputs": [],
   "source": [
    "import seaborn as sns\n",
    "sns.set(context=\"notebook\",style=\"white\")\n",
    "plt.rcParams['figure.figsize'] = (14, 5)\n",
    "plt.rcParams['figure.dpi'] = 75\n",
    "coma=mpl.ticker.StrMethodFormatter('{x:,g}' )\n",
    "percen=mpl.ticker.PercentFormatter()\n",
    "formatter = mpl.dates.DateFormatter(\"%d/%m\")"
   ]
  },
  {
   "cell_type": "markdown",
   "metadata": {
    "extensions": {
     "jupyter_dashboards": {
      "version": 1,
      "views": {
       "grid_default": {},
       "report_default": {
        "hidden": true
       }
      }
     }
    },
    "nbpresent": {
     "id": "67b91714-44dd-4d14-a8d1-c7ac6f933775"
    }
   },
   "source": [
    "### Resumen nivel Nacional"
   ]
  },
  {
   "cell_type": "code",
   "execution_count": null,
   "metadata": {
    "extensions": {
     "jupyter_dashboards": {
      "version": 1,
      "views": {
       "grid_default": {},
       "report_default": {
        "hidden": true
       }
      }
     }
    },
    "nbpresent": {
     "id": "7463ee8a-8dd1-42e0-9f0d-837e949002ef"
    }
   },
   "outputs": [],
   "source": [
    "pais=covid.pivot_table(values=[\"SOSPECHOSO\",\"CONFIRMADO\",\"MUERTE x COVID\",\"RECUPERADO\"],\n",
    "                             aggfunc=[\"sum\",\"mean\",\"count\"],index=\"FECHA_INGRESO\")\n",
    "pais[\"mean\"]=pais[\"sum\"].rolling(21).mean()\n",
    "pais[\"count\"]=pais[\"sum\"].cumsum()\n",
    "pais.rename(columns={\"sum\":\"Nuevos Casos por día\",\"mean\":\"21 day moving avg\",\n",
    "                     \"count\": \"Acumulado\"},inplace=True)"
   ]
  },
  {
   "cell_type": "markdown",
   "metadata": {
    "extensions": {
     "jupyter_dashboards": {
      "version": 1,
      "views": {
       "grid_default": {},
       "report_default": {
        "hidden": true
       }
      }
     }
    },
    "nbpresent": {
     "id": "f4bee63f-78cd-4c99-8211-c180b56c94d6"
    }
   },
   "source": [
    "### Resumen por Estado"
   ]
  },
  {
   "cell_type": "code",
   "execution_count": null,
   "metadata": {
    "extensions": {
     "jupyter_dashboards": {
      "version": 1,
      "views": {
       "grid_default": {},
       "report_default": {
        "hidden": true
       }
      }
     }
    },
    "nbpresent": {
     "id": "dfce8597-d9fe-4ee5-9eb4-59c905e87ebf"
    }
   },
   "outputs": [],
   "source": [
    "porestado=covid.pivot_table(values=[\"SOSPECHOSO\",\"CONFIRMADO\",\"MUERTE x COVID\",\"RECUPERADO\"],\n",
    "                             aggfunc=[\"sum\",\"mean\",\"count\"],index=\"FECHA_INGRESO\",\n",
    "                             columns=\"ABREVIATURA\")\n",
    "porestado[\"mean\"]=porestado[\"sum\"].rolling(21).mean()\n",
    "porestado[\"count\"]=porestado[\"sum\"].cumsum()\n",
    "porestado.rename(columns={\"sum\":\"Nuevos Casos por día\",\"mean\":\"21 day moving avg\",\n",
    "                         \"count\": \"Acumulado\"},inplace=True)"
   ]
  },
  {
   "cell_type": "code",
   "execution_count": null,
   "metadata": {
    "extensions": {
     "jupyter_dashboards": {
      "version": 1,
      "views": {
       "grid_default": {},
       "report_default": {
        "hidden": true
       }
      }
     }
    },
    "nbpresent": {
     "id": "56518e5b-9a24-41fb-b4c8-3fedb9048864"
    }
   },
   "outputs": [],
   "source": [
    "def indice_mortalidad(estado):\n",
    "    \n",
    "    mortandad=pais[(\"Acumulado\",\"MUERTE x COVID\")]/pais[(\"Acumulado\",\"CONFIRMADO\")]\n",
    "    mortandad=mortandad.to_frame()\n",
    "    mortandad[\"Promedio Móvil\"]=mortandad[0].rolling(21).mean()\n",
    "    mortandad.dropna(axis=0,inplace=True)\n",
    "    mortandad.columns=[\"Mortandad\",'Promedio Móvil']\n",
    "    mortandad=mortandad.loc[\"2020-03-20\":pd.Timestamp.today()-pd.Timedelta(5,unit=\"D\")]\n",
    "    \n",
    "    mask1=entidad[\"ENTIDAD_FEDERATIVA\"]==estado\n",
    "    edo=entidad[mask1].iat[0,2]\n",
    "    mortandad2=porestado.loc[\"2020-03-20\":pd.Timestamp.today()-pd.Timedelta(5,unit=\"D\"),(\"Acumulado\",(\"CONFIRMADO\",\"MUERTE x COVID\"),edo)]\n",
    "\n",
    "    mortandad2.columns=mortandad2.columns.to_flat_index()\n",
    "    mortandad2.columns=[\"CONFIRMADO\",\"MUERTE x COVID\"]\n",
    "\n",
    "    mortandad2[\"Mortandad\"]=mortandad2[\"MUERTE x COVID\"]/mortandad2[\"CONFIRMADO\"]\n",
    "    mortandad2[\"Promedio Móvil\"]=mortandad2[\"Mortandad\"].rolling(21).mean()\n",
    "\n",
    "    fig, (ax,ax2)=plt.subplots(2,1, constrained_layout=True)\n",
    "    ax.vlines(mortandad.index,ymin=0, ymax=mortandad[\"Mortandad\"]*100,color=\"gray\")\n",
    "    ax.plot(mortandad[\"Promedio Móvil\"]*100,color=\"r\",label=\"Promedio movil 21 días\")\n",
    "    ax.axhline(y=9)\n",
    "    ax.xaxis.set_major_locator(ticker.MaxNLocator(8))\n",
    "    ax.xaxis.set_major_locator(ticker.NullLocator())\n",
    "    ax.yaxis.set_major_formatter(percen)\n",
    "    bbox_args = dict(boxstyle=\"round\", fc=\"1\")\n",
    "    arrow_args = dict(arrowstyle=\"->\",color=\"r\")\n",
    "    ax.annotate('Promedio Mundial',\n",
    "                    xy=(0.5, 9), xycoords=('axes fraction','data'),\n",
    "                    xytext=(-30, -50), textcoords='offset points',\n",
    "                    ha=\"center\", va=\"top\",\n",
    "                    bbox=bbox_args,\n",
    "                    arrowprops=arrow_args)\n",
    "    ax.set_ylabel('Indice de Mortalidad')\n",
    "    ax.set_title(\"Evolución del Indice de Mortalidad por COVID - Nivel Nacional\")\n",
    "    ax.legend()\n",
    "\n",
    "    ax2.vlines(mortandad2.index,ymin=0, ymax=mortandad2[\"Mortandad\"]*100,color=\"gray\")\n",
    "    ax2.plot(mortandad2[\"Promedio Móvil\"]*100,color=\"r\")\n",
    "    ax2.axhline(y=9)\n",
    "    ax2.xaxis.set_major_locator(ticker.MaxNLocator(8))\n",
    "    ax2.xaxis.set_major_formatter(formatter)\n",
    "    ax2.yaxis.set_major_formatter(percen)\n",
    "    ax2.annotate('Promedio Mundial',\n",
    "                    xy=(0.5, 9), xycoords=('axes fraction','data'),\n",
    "                    xytext=(30, 50), textcoords='offset points',\n",
    "                    ha=\"center\", va=\"top\",\n",
    "                    bbox=bbox_args,\n",
    "                    arrowprops=arrow_args)\n",
    "    ax2.set_ylabel('Indice de Mortalidad')\n",
    "    ax2.set_title(\"Evolución del Indice de Mortalidad por COVID  --  \" +str(estado))\n",
    "    fig.savefig(\"mortandad\");"
   ]
  },
  {
   "cell_type": "code",
   "execution_count": null,
   "metadata": {
    "extensions": {
     "jupyter_dashboards": {
      "version": 1,
      "views": {
       "grid_default": {
        "hidden": true
       },
       "report_default": {
        "hidden": true
       }
      }
     }
    },
    "nbpresent": {
     "id": "5f79ac98-c0be-49f1-8945-a1e5d7f191ba"
    }
   },
   "outputs": [],
   "source": [
    "def situacion_nacional(item):\n",
    "    \n",
    "    mortandad=pais[(\"Acumulado\",\"MUERTE x COVID\")]/pais[(\"Acumulado\",\"CONFIRMADO\")]\n",
    "    mortandad=mortandad.to_frame()\n",
    "    mortandad[\"Promedio Móvil\"]=mortandad[0].rolling(21).mean()\n",
    "    mortandad.dropna(axis=0,inplace=True)\n",
    "    mortandad.columns=[\"Mortandad\",'Promedio Móvil']\n",
    "    mortandad=mortandad.loc[\"2020-03-20\":pd.Timestamp.today()-pd.Timedelta(5,unit=\"D\")]\n",
    "\n",
    "    i=item\n",
    "    if item ==\"CONFIRMADO\":\n",
    "        x=5\n",
    "    elif item==\"SOSPECHOSO\":\n",
    "        x=1\n",
    "    elif item==\"MUERTE x COVID\":\n",
    "        x=14\n",
    "    \n",
    "    idx=pd.IndexSlice\n",
    "    graph2=pais.loc[\"2020-03-20\":pd.Timestamp.today()-pd.Timedelta(x,unit=\"D\")\n",
    "               ,idx[(\"Nuevos Casos por día\",\"21 day moving avg\"),(item)]]\n",
    "    \n",
    "    fig, (ax,ax2)=plt.subplots(1,2, constrained_layout=True)\n",
    "    \n",
    "    ax.plot(graph2[\"21 day moving avg\"], color=\"g\", \n",
    "             label=\"Promedio móvil 21 días\")\n",
    "    ax.vlines(graph2.index,ymin=0,ymax=graph2[\"Nuevos Casos por día\"],\n",
    "              label=\"Nuevos Casos por día\",color=\"gray\")\n",
    "   \n",
    "    ax.legend(loc=\"upper left\")\n",
    "    ax.set_ylabel('Número de Casos')\n",
    "    ax.xaxis.set_major_locator(ticker.MaxNLocator(8))\n",
    "    ax.xaxis.set_major_formatter(formatter)\n",
    "    ax.yaxis.set_major_formatter(coma)\n",
    "    ax.set_title(\"Desarrollo Casos COVID  \"+str(i)+\"- Nivel Nacional\")     \n",
    "    \n",
    "    \n",
    "    ax2.vlines(mortandad.index,ymin=0, ymax=mortandad[\"Mortandad\"]*100,color=\"gray\")\n",
    "    ax2.plot(mortandad[\"Promedio Móvil\"]*100,color=\"r\",label=\"Promedio movil 21 días\")\n",
    "    ax2.axhline(y=9)\n",
    "    ax2.xaxis.set_major_locator(ticker.MaxNLocator(8))\n",
    "    ax2.xaxis.set_major_formatter(formatter)\n",
    "    ax2.yaxis.set_major_formatter(percen)\n",
    "    bbox_args = dict(boxstyle=\"round\", fc=\"1\")\n",
    "    arrow_args = dict(arrowstyle=\"->\",color=\"r\")\n",
    "    ax2.annotate('Promedio Mundial',\n",
    "                    xy=(0.5, 9), xycoords=('axes fraction','data'),\n",
    "                    xytext=(-30, -50), textcoords='offset points',\n",
    "                    ha=\"center\", va=\"top\",\n",
    "                    bbox=bbox_args,\n",
    "                    arrowprops=arrow_args)\n",
    "    ax2.set_ylabel('Indice de Mortalidad')\n",
    "    ax2.set_title(\"Evolución del Indice de Mortalidad por COVID - Nivel Nacional\")\n",
    "    ax2.legend()\n",
    "\n",
    "   \n",
    "    fig.savefig(\"nacional\");"
   ]
  },
  {
   "cell_type": "code",
   "execution_count": null,
   "metadata": {
    "extensions": {
     "jupyter_dashboards": {
      "version": 1,
      "views": {
       "grid_default": {
        "hidden": true
       },
       "report_default": {
        "hidden": true
       }
      }
     }
    },
    "nbpresent": {
     "id": "f392c1f2-9101-4be7-83a2-1d16a9c94a5f"
    }
   },
   "outputs": [],
   "source": [
    "def situacion_estatal(item, estado):\n",
    "    \n",
    "    mask1=entidad[\"ENTIDAD_FEDERATIVA\"]==estado\n",
    "    edo=entidad[mask1].iat[0,2]\n",
    "    \n",
    "    mortandad2=porestado.loc[\"2020-03-20\":pd.Timestamp.today()-pd.Timedelta(5,unit=\"D\"),(\"Acumulado\",(\"CONFIRMADO\",\"MUERTE x COVID\"),edo)]\n",
    "    mortandad2.columns=mortandad2.columns.to_flat_index()\n",
    "    mortandad2.columns=[\"CONFIRMADO\",\"MUERTE x COVID\"]\n",
    "    mortandad2[\"Mortandad\"]=mortandad2[\"MUERTE x COVID\"]/mortandad2[\"CONFIRMADO\"]\n",
    "    mortandad2[\"Promedio Móvil\"]=mortandad2[\"Mortandad\"].rolling(21).mean()\n",
    "    \n",
    "    i=item\n",
    "    if item ==\"CONFIRMADO\":\n",
    "        x=5\n",
    "    elif item==\"SOSPECHOSO\":\n",
    "        x=1\n",
    "    elif item==\"MUERTE x COVID\":\n",
    "        x=14\n",
    "    \n",
    "    idx=pd.IndexSlice\n",
    "    graph=porestado.loc[\"2020-03-20\":pd.Timestamp.today()-pd.Timedelta(x,unit=\"D\")\n",
    "               ,idx[(\"Nuevos Casos por día\",\"21 day moving avg\"),(item),edo]]\n",
    "    \n",
    "    fig, (ax,ax2)=plt.subplots(1,2, constrained_layout=True)\n",
    "    \n",
    "    ax.vlines(graph.index, ymin=0,ymax=graph[\"Nuevos Casos por día\"],\n",
    "               label=\"Nuevos Casos por día\",color=\"gray\")\n",
    "    ax.plot(graph[\"21 day moving avg\"], color=\"g\",\n",
    "            label=\"Promedio móvil 21 días\")\n",
    "    ax.legend(loc=\"upper left\")\n",
    "    ax.set_xlabel('Fecha de Ingreso')\n",
    "    ax.set_ylabel('Número de Casos')\n",
    "    \n",
    "    ax.set_title(\"Desarrollo Casos COVID  \"+str(i)+\" \"+str(estado))\n",
    "    ax.xaxis.set_major_locator(ticker.MaxNLocator(8))\n",
    "    ax.xaxis.set_major_formatter(formatter)\n",
    "    \n",
    "    bbox_args = dict(boxstyle=\"round\", fc=\"1\")\n",
    "    arrow_args = dict(arrowstyle=\"->\",color=\"r\")\n",
    "    ax2.vlines(mortandad2.index,ymin=0, ymax=mortandad2[\"Mortandad\"]*100,color=\"gray\")\n",
    "    ax2.plot(mortandad2[\"Promedio Móvil\"]*100,color=\"r\")\n",
    "    ax2.axhline(y=9)\n",
    "    ax2.xaxis.set_major_locator(ticker.MaxNLocator(8))\n",
    "    ax2.xaxis.set_major_formatter(formatter)\n",
    "    ax2.yaxis.set_major_formatter(percen)\n",
    "    ax2.annotate('Promedio Mundial',\n",
    "                    xy=(0.5, 9), xycoords=('axes fraction','data'),\n",
    "                    xytext=(30, 50), textcoords='offset points',\n",
    "                    ha=\"center\", va=\"top\",\n",
    "                    bbox=bbox_args,\n",
    "                    arrowprops=arrow_args)\n",
    "    ax2.set_xlabel('Fecha de Ingreso')\n",
    "    ax2.set_ylabel('Indice de Mortalidad')\n",
    "    ax2.set_title(\"Evolución del Indice de Mortalidad por COVID  --  \" +str(estado))\n",
    "    fig.savefig(\"estatal\");"
   ]
  },
  {
   "cell_type": "code",
   "execution_count": null,
   "metadata": {
    "extensions": {
     "jupyter_dashboards": {
      "version": 1,
      "views": {
       "grid_default": {},
       "report_default": {
        "hidden": true
       }
      }
     }
    },
    "nbpresent": {
     "id": "907a9910-9c5e-4330-b0e6-58ac16e8ff99"
    }
   },
   "outputs": [],
   "source": [
    "\n",
    "\n",
    "def evolucion_covid(item,estado):\n",
    "    i=item\n",
    "    if item ==\"CONFIRMADO\":\n",
    "        x=5\n",
    "    elif item==\"SOSPECHOSO\":\n",
    "        x=1\n",
    "    elif item==\"MUERTE x COVID\":\n",
    "        x=14\n",
    "    mask1=entidad[\"ENTIDAD_FEDERATIVA\"]==estado\n",
    "    edo=entidad[mask1].iat[0,2]\n",
    "    \n",
    "    idx=pd.IndexSlice\n",
    "    graph=porestado.loc[\"2020-03-20\":pd.Timestamp.today()-pd.Timedelta(x,unit=\"D\")\n",
    "               ,idx[(\"Nuevos Casos por día\",\"21 day moving avg\"),(item),edo]]\n",
    "    graph2=pais.loc[\"2020-03-20\":pd.Timestamp.today()-pd.Timedelta(x,unit=\"D\")\n",
    "               ,idx[(\"Nuevos Casos por día\",\"21 day moving avg\"),(item)]]\n",
    "    \n",
    "    \n",
    "    fig, (ax1,ax2)=plt.subplots(2,1,constrained_layout=True)\n",
    "    ax1.plot(graph2[\"21 day moving avg\"], color=\"g\", \n",
    "             label=\"Promedio móvil 21 días\")\n",
    "    ax1.vlines(graph2.index,ymin=0,ymax=graph2[\"Nuevos Casos por día\"],\n",
    "              label=\"Nuevos Casos por día\",color=\"gray\")\n",
    "   \n",
    "    ax1.legend(loc=\"upper left\")\n",
    "    ax1.set_ylabel('Número de Casos')\n",
    "    ax1.xaxis.set_major_locator(ticker.NullLocator())\n",
    "    ax1.yaxis.set_major_formatter(coma)\n",
    "    ax1.set_title(\"Desarrollo Casos COVID  \"+str(i)+\" a nivel Nacional\")\n",
    "    \n",
    "    \n",
    "    ax2.vlines(graph.index, ymin=0,ymax=graph[\"Nuevos Casos por día\"],\n",
    "              label=\"Nuevos Casos por día\",color=\"gray\")\n",
    "    ax2.plot(graph[\"21 day moving avg\"], color=\"g\",\n",
    "            label=\"Promedio móvil 21 días\")\n",
    "    ax2.legend(loc=\"upper left\")\n",
    "    ax2.set_xlabel('Fecha de Ingreso')\n",
    "    ax2.set_ylabel('Número de Casos')\n",
    "    \n",
    "    ax2.set_title(\"Desarrollo Casos COVID  \"+str(i)+\" \"+str(estado))\n",
    "    ax2.xaxis.set_major_locator(ticker.MaxNLocator(8))\n",
    "    ax2.xaxis.set_major_formatter(formatter)\n",
    "    fig.savefig(\"evolucion.png\");\n"
   ]
  },
  {
   "cell_type": "code",
   "execution_count": null,
   "metadata": {
    "extensions": {
     "jupyter_dashboards": {
      "version": 1,
      "views": {
       "grid_default": {
        "hidden": true
       },
       "report_default": {
        "hidden": true
       }
      }
     }
    },
    "nbpresent": {
     "id": "e4bd929a-310d-4d35-a74e-4ac2f8036cef"
    }
   },
   "outputs": [],
   "source": [
    "def por_edad(estado):\n",
    "    \n",
    "    mask0=entidad[\"ENTIDAD_FEDERATIVA\"]==estado\n",
    "    edo=entidad[mask0].iat[0,2]\n",
    "    \n",
    "    mask1=~covid[\"FECHA_DEF\"].isna()\n",
    "    mask2=covid[\"RESULTADOS\"]==\"Positivo SARS-CoV-2\"\n",
    "    mask3=covid[\"ABREVIATURA\"]==edo\n",
    "    data=covid[mask1&mask2&mask3][[\"EDAD\",\"FECHA_DEF\",\"H/M\"]]\n",
    "    xx=data[\"H/M\"]==\"MUJER\"\n",
    "    xy=data[\"H/M\"]=='HOMBRE'\n",
    "    mu=data[\"EDAD\"].mean()\n",
    "    total=data[\"EDAD\"].count()\n",
    "    sigma=data[\"EDAD\"].std()\n",
    "    fecha=\"{:%d/%m/%y}\".format(pd.Timestamp.today())\n",
    "    text=\"{} fallecimientos al día {}\".format(total,fecha)\n",
    "\n",
    "    nbins=20\n",
    "    g=sns.FacetGrid(data, col=\"H/M\", height=7)\n",
    "    g.map(plt.hist,\"EDAD\")\n",
    "    plt.subplots_adjust(top=0.8)\n",
    "    g.fig.suptitle('Fallecimientos por EDAD y SEXO - {}'.format(estado))\n",
    "    g.savefig(\"por_edad\");"
   ]
  },
  {
   "cell_type": "code",
   "execution_count": null,
   "metadata": {
    "extensions": {
     "jupyter_dashboards": {
      "version": 1,
      "views": {
       "grid_default": {},
       "report_default": {
        "hidden": true
       }
      }
     }
    },
    "nbpresent": {
     "id": "7d96c04c-5a59-40f6-8d0f-5ce5e7035624"
    },
    "scrolled": true
   },
   "outputs": [],
   "source": [
    "def padecimientos(estado):\n",
    "    \n",
    "    mask0=entidad[\"ENTIDAD_FEDERATIVA\"]==estado\n",
    "    edo=entidad[mask0].iat[0,2]\n",
    "    \n",
    "    mask=covid[\"ABREVIATURA\"]==edo\n",
    "\n",
    "    mask1=covid[\"RECUPERADO\"]\n",
    "    recuperado=covid[mask1&mask]\n",
    "\n",
    "    mask2=covid[\"MUERTE x COVID\"]\n",
    "    muerte=covid[mask2&mask]\n",
    "\n",
    "    mask3=covid[\"NEGATIVO\"]\n",
    "    negativo=covid[mask3&mask]\n",
    "\n",
    "    mask4=covid[\"CONFIRMADO\"]\n",
    "    positivo=covid[mask4&mask]\n",
    "\n",
    "    mask5=covid[\"SOSPECHOSO\"]\n",
    "    sospechoso=covid[mask5&mask]\n",
    "\n",
    "    padec=[\"PADECIMIENTO\",\"DIABETES\",\"EPOC\",\"ASMA\",\"INMUSUPR\",\"HIPERTENSION\",\n",
    "       \"CARDIOVASCULAR\",\"OBESIDAD\",\"RENAL_CRONICA\",\"TABAQUISMO\",\"NO PADECIMIENTO\"]\n",
    "\n",
    "    condiciones=pd.DataFrame()\n",
    "    condiciones[\"SOSPECHOSOS\"]=sospechoso[padec].mean()\n",
    "    condiciones[\"NEGATIVO\"]=negativo[padec].mean()\n",
    "    condiciones[\"POSITIVO\"]=positivo[padec].mean()\n",
    "    condiciones[\"RECUPERADOS\"]=recuperado[padec].mean()\n",
    "    condiciones[\"MUERTE\"]=muerte[padec].mean()\n",
    "\n",
    "    cm = sns.light_palette(\"orange\", as_cmap=True)\n",
    "    s = condiciones.style\n",
    "    s.background_gradient(cmap=cm)\n",
    "    s.format(\"{:.2%}\")\n",
    "\n",
    "    return s"
   ]
  },
  {
   "cell_type": "code",
   "execution_count": null,
   "metadata": {
    "extensions": {
     "jupyter_dashboards": {
      "version": 1,
      "views": {
       "grid_default": {},
       "report_default": {
        "hidden": true
       }
      }
     }
    },
    "nbpresent": {
     "id": "d26ac4cd-a8ee-4c86-bed0-269d72d3ffed"
    }
   },
   "outputs": [],
   "source": [
    "def hospitalizacion(estado):\n",
    "        \n",
    "    mask1=entidad[\"ENTIDAD_FEDERATIVA\"]==estado\n",
    "    edo=entidad[mask1].iat[0,2]\n",
    "    \n",
    "    mask1=covid[\"ABREVIATURA\"]==edo\n",
    "    mask2=covid[\"PACIENTE\"]==\"HOSPITALIZADO\"\n",
    "    mask3=covid[\"UCI\"]\n",
    "    status=covid[mask1 & mask2]\n",
    "    uci=covid[mask1 & mask3]\n",
    "    g=sns.catplot(y=\"INSTITUCION\",data=status,col=\"UCI\",hue=\"STATUS\",\n",
    "                  height=7,kind='count',sharex=False,legend_out=False,)\n",
    "    g.set(xscale=\"log\")\n",
    "    plt.subplots_adjust(top=0.8)\n",
    "    g.fig.suptitle('Pacientes Hospitalizados - {}'.format(estado))\n",
    "    g.savefig(\"hosp\");"
   ]
  },
  {
   "cell_type": "code",
   "execution_count": null,
   "metadata": {
    "extensions": {
     "jupyter_dashboards": {
      "version": 1,
      "views": {
       "grid_default": {},
       "report_default": {
        "hidden": true
       }
      }
     }
    },
    "nbpresent": {
     "id": "9b85e6b4-e872-4430-a9d2-ad47af5aac16"
    }
   },
   "outputs": [],
   "source": [
    "def resumen_por_estado():\n",
    "    new=covid.pivot_table(values=[\"CONFIRMADO\"],\n",
    "                                 aggfunc=[\"sum\"],index=\"FECHA_INGRESO\",\n",
    "                                 columns=\"ABREVIATURA\")\n",
    "    new.columns=entidad[\"ABREVIATURA\"][0:-1]\n",
    "    new=new.loc[\"2020-01-01\":pd.Timestamp.today()-pd.Timedelta(5,unit=\"D\")]\n",
    "\n",
    "    cum=new.cumsum()\n",
    "\n",
    "    rolling=new.rolling(21).mean()\n",
    "\n",
    "    new_death=covid.pivot_table(values=[\"MUERTE x COVID\"],\n",
    "                                 aggfunc=[\"sum\"],index=\"FECHA_INGRESO\",\n",
    "                                 columns=\"ABREVIATURA\")\n",
    "    new_death.columns=entidad[\"ABREVIATURA\"][0:-1]\n",
    "    new_death=new_death.loc[\"2020-01-01\":pd.Timestamp.today()-pd.Timedelta(5,unit=\"D\")]\n",
    "\n",
    "    cum_death=new_death.cumsum()\n",
    "    roll_death=new_death.rolling(21).mean()\n",
    "    mortality=cum_death/cum\n",
    "\n",
    "    resumen=pd.DataFrame()\n",
    "\n",
    "    poblacion=pd.read_csv(\"Tabulado.csv\",encoding=\"utf_8\")[\"Total.2\"]\n",
    "    poblacion.index=entidad.iloc[0:-1,2]\n",
    "    resumen[\"POBLACION\"]=poblacion\n",
    "\n",
    "    resumen[\"NUEVOS\"]=new.iloc[-1,:].astype(int)\n",
    "    resumen[\"PROMEDIO NUEVOS CASOS\"]=rolling.iloc[-1,:].round(2)\n",
    "    resumen[\"CAMBIO EN PROMEDIO DIARIO\"]=(rolling.iloc[-1,:]-rolling.iloc[-5,:])/rolling.iloc[-5,:].round(2)\n",
    "    resumen[\"CASOS TOTALES\"]=cum.iloc[-1,:].astype(int)\n",
    "\n",
    "\n",
    "    resumen[\"ULTIMOS DECESOS\"]=new_death.iloc[-1,:]\n",
    "    resumen[\"PROMEDIO MUERTES\"]=roll_death.iloc[-1,:].round(2)\n",
    "    resumen[\"CAMBIO EN PROMEDIO DE DECESOS\"]=(roll_death.iloc[-1,:]-roll_death.iloc[-5,:])/roll_death.iloc[-5,:].round(2)\n",
    "    resumen[\"DECESOS TOTALES\"]=cum_death.iloc[-1,:]\n",
    "    resumen[\"DECESOS x MILLON\"]=(resumen[\"DECESOS TOTALES\"]/resumen[\"POBLACION\"]*1000000).round(2)\n",
    "    resumen[\"MORTALITY\"]=mortality.iloc[-1,:].round(2)\n",
    "    ind=entidad.iloc[0:-1,1]\n",
    "    resumen.index=ind\n",
    "    resumen=resumen.drop(\"POBLACION\",axis=1)\n",
    "\n",
    "    resumen=resumen.style.format({'MORTALITY':\"{:.2%}\",\"CAMBIO EN PROMEDIO DIARIO\":\"{:.2%}\"\n",
    "                             ,\"CAMBIO EN PROMEDIO DE DECESOS\":\"{:.2%}\",\"NUEVOS\":'{:,}',\"CASOS TOTALES\":'{:,}',\n",
    "                           \"PROMEDIO NUEVOS CASOS\":'{:,}',\"ULTIMOS DECESOS\":'{:,}',\"PROMEDIO MUERTES\":'{:,}',\n",
    "                           \"DECESOS TOTALES\":'{:,}',\"POBLACION\":'{:,}',\"DECESOS x MILLON\":\"{:,}\"})\n",
    "\n",
    "    from matplotlib import cm\n",
    "    cm1=sns.diverging_palette(220, 22, sep=20, as_cmap=True)\n",
    "    cm=sns.diverging_palette(220, 20, sep=20, as_cmap=True)\n",
    "    #cm = sns.dark_palette(\"blue\", as_cmap=True)\n",
    "    resumen.background_gradient(cmap=cm1,axis=0,low=-0.01,high=0.3, \n",
    "                            subset=[\"MORTALITY\",\"CAMBIO EN PROMEDIO DE DECESOS\",\n",
    "                                    \"CAMBIO EN PROMEDIO DIARIO\"])\n",
    "    resumen.background_gradient(cmap=cm,axis=0,low=-0.3,high=0.3, \n",
    "                            subset=[\"DECESOS x MILLON\",\"CASOS TOTALES\"])\n",
    "    return resumen"
   ]
  },
  {
   "cell_type": "code",
   "execution_count": null,
   "metadata": {
    "extensions": {
     "jupyter_dashboards": {
      "version": 1,
      "views": {
       "grid_default": {},
       "report_default": {
        "hidden": true
       }
      }
     }
    },
    "nbpresent": {
     "id": "3de2c542-224d-499a-8bb2-a6b4b4b93452"
    }
   },
   "outputs": [],
   "source": [
    "def resumen_por_municipio(estado):\n",
    "\n",
    "    mask0=entidad[\"ENTIDAD_FEDERATIVA\"]==estado\n",
    "    edo=entidad[mask0].iat[0,2]\n",
    "    \n",
    "    mask=covid[\"ABREVIATURA\"]==edo\n",
    "    mask2=municipio[\"ABREVIATURA\"]==edo\n",
    "    lista_munic=municipio[\"MUNICIPIO\"][mask2].sort_values()\n",
    "    mask3=covid[\"MUNICIPIO\"].isin(lista_munic)\n",
    "    munc=covid[mask3&mask]\n",
    "\n",
    "    new=munc.pivot_table(values=[\"CONFIRMADO\"],\n",
    "                                 aggfunc=[\"sum\"],index=\"FECHA_INGRESO\",\n",
    "                                 columns=\"MUNICIPIO\")\n",
    "\n",
    "    new.columns=new.columns.get_level_values(2)\n",
    "    new=new.loc[\"2020-01-01\":pd.Timestamp.today()-pd.Timedelta(5,unit=\"D\")]\n",
    "    new=new.fillna(0)\n",
    "\n",
    "    cum=new.cumsum(skipna=True)\n",
    "    rolling=new.rolling(21).mean().round(2)\n",
    "\n",
    "    new_death=munc.pivot_table(values=[\"MUERTE x COVID\"],\n",
    "                                 aggfunc=[\"sum\"],index=\"FECHA_INGRESO\",\n",
    "                                 columns=\"MUNICIPIO\")\n",
    "    new_death.columns=new_death.columns.get_level_values(2)\n",
    "    new_death=new_death.loc[\"2020-01-01\":pd.Timestamp.today()-pd.Timedelta(5,unit=\"D\")]\n",
    "    new_death=new_death.fillna(0)\n",
    "\n",
    "    cum_death=new_death.cumsum()\n",
    "    roll_death=new_death.rolling(21).mean().round(2)\n",
    "\n",
    "\n",
    "    resumen=municipio[\"MUNICIPIO\"][mask2].sort_values().to_frame().set_index(\"MUNICIPIO\")\n",
    "    resumen=resumen.drop(\"NO ESPECIFICADO\")\n",
    "\n",
    "    NUEVOS_CASOS=new.iloc[-1,:]\n",
    "    NUEVOS_CASOS.name=\"NUEVOS CASOS\"\n",
    "    resumen=resumen.merge(NUEVOS_CASOS, left_index=True, right_index=True)\n",
    "\n",
    "    PROMEDIO_NUEVOS_CASOS=rolling.iloc[-1,:].round(2)\n",
    "    PROMEDIO_NUEVOS_CASOS.name=\"PROMEDIO NUEVOS CASOS\"\n",
    "    resumen=resumen.merge(PROMEDIO_NUEVOS_CASOS, left_index=True, right_index=True)\n",
    "\n",
    "    CAMBIO_EN_PROMEDIO_DIARIO=(rolling.iloc[-1,:]-rolling.iloc[-5,:])/rolling.iloc[-5,:].round(2)\n",
    "    CAMBIO_EN_PROMEDIO_DIARIO.name=\"CAMBIO EN PROMEDIO DIARIO\"\n",
    "    resumen=resumen.merge(CAMBIO_EN_PROMEDIO_DIARIO, left_index=True, right_index=True)\n",
    "\n",
    "    CASOS_TOTALES=cum.iloc[-1,:]\n",
    "    CASOS_TOTALES.name=\"CASOS TOTALES\"\n",
    "    resumen=resumen.merge(CASOS_TOTALES, left_index=True, right_index=True)\n",
    "\n",
    "    ULTIMOS_DECESOS=new_death.iloc[-1,:]\n",
    "    ULTIMOS_DECESOS.name=\"ULTIMOS DECESOS\"\n",
    "    resumen=resumen.merge(ULTIMOS_DECESOS, left_index=True, right_index=True)\n",
    "\n",
    "    PROMEDIO_MUERTES=roll_death.iloc[-1,:].round(2)\n",
    "    PROMEDIO_MUERTES.name=\"PROMEDIO MUERTES\"\n",
    "    resumen=resumen.merge(PROMEDIO_MUERTES, left_index=True, right_index=True)\n",
    "\n",
    "    CAMBIO_EN_PROMEDIO_DE_DECESOS=(roll_death.iloc[-1,:]-roll_death.iloc[-5,:])/roll_death.iloc[-5,:].round(2)\n",
    "    CAMBIO_EN_PROMEDIO_DE_DECESOS.name=\"CAMBIO EN PROMEDIO DE DECESOS\"\n",
    "    resumen=resumen.merge(CAMBIO_EN_PROMEDIO_DE_DECESOS, left_index=True, right_index=True)\n",
    "\n",
    "    DECESOS_TOTALES=cum_death.iloc[-1,:]\n",
    "    DECESOS_TOTALES.name=\"DECESOS TOTALES\"\n",
    "    resumen=resumen.merge(DECESOS_TOTALES, left_index=True, right_index=True)\n",
    "\n",
    "\n",
    "    resumen[\"MORTALITY\"]=resumen[\"DECESOS TOTALES\"]/resumen[\"CASOS TOTALES\"]\n",
    "    resumen=resumen.replace([np.inf,-np.inf],0)\n",
    "\n",
    "    resumen=resumen.style.format({'MORTALITY':\"{:.2%}\",\"CAMBIO EN PROMEDIO DIARIO\":\"{:.2%}\"\n",
    "                             ,\"CAMBIO EN PROMEDIO DE DECESOS\":\"{:.2%}\",\"NUEVOS CASOS\":'{:,}',\"CASOS TOTALES\":'{:,}',\n",
    "                           \"PROMEDIO NUEVOS CASOS\":'{:,}',\"ULTIMOS DECESOS\":'{:,}',\"PROMEDIO MUERTES\":'{:,}',\n",
    "                           \"DECESOS TOTALES\":'{:,}',\"POBLACION\":'{:,}'},na_rep=\"-\")\n",
    "\n",
    "    from matplotlib import cm\n",
    "    cm1=sns.diverging_palette(220, 22, sep=20, as_cmap=True)\n",
    "    cm=sns.diverging_palette(220, 20, sep=20, as_cmap=True)\n",
    "    resumen.background_gradient(cmap=cm1,axis=0,low=-0.1,high=0.3, \n",
    "                            subset=[\"MORTALITY\",\"CAMBIO EN PROMEDIO DE DECESOS\",\n",
    "                                    \"CAMBIO EN PROMEDIO DIARIO\"])\n",
    "    resumen.background_gradient(cmap=cm,axis=0,low=-0.3,high=0.3, \n",
    "                            subset=[\"CASOS TOTALES\", \"NUEVOS CASOS\",\"DECESOS TOTALES\"])\n",
    "        \n",
    "    return resumen"
   ]
  },
  {
   "cell_type": "code",
   "execution_count": null,
   "metadata": {
    "extensions": {
     "jupyter_dashboards": {
      "version": 1,
      "views": {
       "grid_default": {},
       "report_default": {
        "hidden": true
       }
      }
     }
    },
    "nbpresent": {
     "id": "2602838e-dd38-4984-9e57-5d706695d91d"
    }
   },
   "outputs": [],
   "source": [
    "def present_analysis(item,edo):\n",
    "\n",
    "    mask1=entidad[\"ABREVIATURA\"]==edo\n",
    "    edo_name=entidad[mask1].iat[0,0]\n",
    "    \n",
    "    indice_mortalidad(edo)\n",
    "    evolucion_covid(item,edo)\n",
    "    por_edad(edo)\n",
    "    hospitalizacion(edo)\n",
    "    \n",
    "    estados=resumen_por_estado()\n",
    "    municipios=resumen_por_municipio(edo)\n",
    "    padec=padecimientos(edo)\n",
    "    \n",
    "    with pd.ExcelWriter('COVID-MX.xlsx') as writer:  \n",
    "        estados.to_excel(writer, sheet_name='ESTADOS')\n",
    "        municipios.to_excel(writer, sheet_name=\"Municipios - {}\".format(edo_name))\n",
    "        padec.to_excel(writer, sheet_name=\"Padecimientos - {}\".format(edo_name))\n",
    "    "
   ]
  },
  {
   "cell_type": "code",
   "execution_count": null,
   "metadata": {
    "extensions": {
     "jupyter_dashboards": {
      "version": 1,
      "views": {
       "grid_default": {},
       "report_default": {
        "hidden": true
       }
      }
     }
    },
    "nbpresent": {
     "id": "3996785e-d112-4e37-a7e4-6e9e3d472b68"
    },
    "scrolled": true
   },
   "outputs": [],
   "source": [
    "#present_analysis(1,\"MS\")"
   ]
  },
  {
   "cell_type": "markdown",
   "metadata": {
    "extensions": {
     "jupyter_dashboards": {
      "version": 1,
      "views": {
       "grid_default": {},
       "report_default": {
        "hidden": false
       }
      }
     }
    },
    "nbpresent": {
     "id": "6481ac06-fb8e-4fca-8cf0-c08d05200b85"
    }
   },
   "source": [
    "# Reporte sobre el Desarrollo de Covid en Mexico.\n",
    "Fuente de Datos: Secretaria de Salud:http://187.191.75.115/gobmx/salud/datos_abiertos/\n",
    "\n",
    "Dado el retrazo en actualizar los datos, las graficas muestran datos con atrazo de 5 - 14 dias son el fin de mostrar una mejor aproximación a la situación real. "
   ]
  },
  {
   "cell_type": "markdown",
   "metadata": {
    "extensions": {
     "jupyter_dashboards": {
      "version": 1,
      "views": {
       "grid_default": {},
       "report_default": {
        "hidden": false
       }
      }
     }
    },
    "nbpresent": {
     "id": "1f931199-be26-44eb-a796-998360cf5fd6"
    }
   },
   "source": [
    "## Situacion de la Evolucion de COVID-19 a Nivel Nacional"
   ]
  },
  {
   "cell_type": "code",
   "execution_count": null,
   "metadata": {
    "extensions": {
     "jupyter_dashboards": {
      "version": 1,
      "views": {
       "grid_default": {},
       "report_default": {
        "hidden": false
       }
      }
     }
    },
    "nbpresent": {
     "id": "ed3249de-6c9c-4457-a676-d29aa047550d"
    }
   },
   "outputs": [],
   "source": [
    "estados=entidad.iloc[:,1]\n",
    "items=[\"CONFIRMADO\",\"SOSPECHOSO\",\"MUERTE x COVID\"]\n",
    "interact(situacion_nacional, item=items);"
   ]
  },
  {
   "cell_type": "markdown",
   "metadata": {
    "extensions": {
     "jupyter_dashboards": {
      "version": 1,
      "views": {
       "grid_default": {},
       "report_default": {
        "hidden": false
       }
      }
     }
    },
    "nbpresent": {
     "id": "e4972f26-35e3-42fa-9564-86492acd43fe"
    }
   },
   "source": [
    "### Situación por Estado"
   ]
  },
  {
   "cell_type": "code",
   "execution_count": null,
   "metadata": {
    "extensions": {
     "jupyter_dashboards": {
      "version": 1,
      "views": {
       "grid_default": {},
       "report_default": {
        "hidden": false
       }
      }
     }
    },
    "nbpresent": {
     "id": "9fdce63d-5ab0-43c1-9a5b-75ce5013f686"
    }
   },
   "outputs": [],
   "source": [
    "resumen_por_estado()"
   ]
  },
  {
   "cell_type": "markdown",
   "metadata": {
    "extensions": {
     "jupyter_dashboards": {
      "version": 1,
      "views": {
       "grid_default": {},
       "report_default": {
        "hidden": false
       }
      }
     }
    },
    "nbpresent": {
     "id": "082d8679-67b5-40da-b784-cc5f31789689"
    }
   },
   "source": [
    "## Situacion Estatal"
   ]
  },
  {
   "cell_type": "code",
   "execution_count": null,
   "metadata": {
    "extensions": {
     "jupyter_dashboards": {
      "version": 1,
      "views": {
       "grid_default": {},
       "report_default": {
        "hidden": false
       }
      }
     }
    },
    "nbpresent": {
     "id": "111ccfeb-469d-458e-8837-e991ef9e08d9"
    }
   },
   "outputs": [],
   "source": [
    "interact(situacion_estatal,estado=estados,item=items);"
   ]
  },
  {
   "cell_type": "markdown",
   "metadata": {
    "extensions": {
     "jupyter_dashboards": {
      "version": 1,
      "views": {
       "grid_default": {},
       "report_default": {
        "hidden": false
       }
      }
     }
    },
    "nbpresent": {
     "id": "6e1e79d8-a790-41f9-b630-ff7792ad3c4d"
    }
   },
   "source": [
    "### Situación por Municipio"
   ]
  },
  {
   "cell_type": "code",
   "execution_count": null,
   "metadata": {
    "extensions": {
     "jupyter_dashboards": {
      "version": 1,
      "views": {
       "grid_default": {},
       "report_default": {
        "hidden": false
       }
      }
     }
    },
    "nbpresent": {
     "id": "84b279c5-e3bd-479c-8a1e-9aa851b7d5ad"
    }
   },
   "outputs": [],
   "source": [
    "interact(resumen_por_municipio, estado=estados);"
   ]
  },
  {
   "cell_type": "markdown",
   "metadata": {
    "extensions": {
     "jupyter_dashboards": {
      "version": 1,
      "views": {
       "grid_default": {},
       "report_default": {
        "hidden": false
       }
      }
     }
    },
    "nbpresent": {
     "id": "44555366-9996-4b17-954b-aabc2bb4d357"
    }
   },
   "source": [
    "### Estado de los Pacientes Hospitalizados"
   ]
  },
  {
   "cell_type": "code",
   "execution_count": null,
   "metadata": {
    "extensions": {
     "jupyter_dashboards": {
      "version": 1,
      "views": {
       "grid_default": {},
       "report_default": {
        "hidden": false
       }
      }
     }
    },
    "nbpresent": {
     "id": "f2981c9a-41b1-4e5b-9f0f-46bd2aae9ddc"
    }
   },
   "outputs": [],
   "source": [
    "interact(hospitalizacion, estado=estados);"
   ]
  },
  {
   "cell_type": "markdown",
   "metadata": {
    "extensions": {
     "jupyter_dashboards": {
      "version": 1,
      "views": {
       "grid_default": {},
       "report_default": {
        "hidden": false
       }
      }
     }
    },
    "nbpresent": {
     "id": "35963e0f-4bfd-4a73-8ba6-eccfef580101"
    }
   },
   "source": [
    "### Distribución de los Fallecimientos"
   ]
  },
  {
   "cell_type": "code",
   "execution_count": null,
   "metadata": {
    "extensions": {
     "jupyter_dashboards": {
      "version": 1,
      "views": {
       "grid_default": {},
       "report_default": {
        "hidden": false
       }
      }
     }
    },
    "nbpresent": {
     "id": "6b891702-29bd-4d00-8605-929a3d307714"
    }
   },
   "outputs": [],
   "source": [
    "interact(por_edad, estado=estados);"
   ]
  },
  {
   "cell_type": "markdown",
   "metadata": {
    "extensions": {
     "jupyter_dashboards": {
      "version": 1,
      "views": {
       "grid_default": {},
       "report_default": {
        "hidden": false
       }
      }
     }
    },
    "nbpresent": {
     "id": "0c00239c-5c8f-46c5-99ff-ce467dc5516c"
    }
   },
   "source": [
    "### Padecimientos"
   ]
  },
  {
   "cell_type": "code",
   "execution_count": null,
   "metadata": {
    "extensions": {
     "jupyter_dashboards": {
      "version": 1,
      "views": {
       "grid_default": {},
       "report_default": {
        "hidden": false
       }
      }
     }
    },
    "nbpresent": {
     "id": "8167902f-3153-4e11-9275-2050f62bbb2a"
    }
   },
   "outputs": [],
   "source": [
    "interact(padecimientos, estado=estados);"
   ]
  },
  {
   "cell_type": "code",
   "execution_count": null,
   "metadata": {
    "extensions": {
     "jupyter_dashboards": {
      "version": 1,
      "views": {
       "grid_default": {},
       "report_default": {
        "hidden": true
       }
      }
     }
    },
    "nbpresent": {
     "id": "93f8457c-b7ae-43e8-8f9b-8cd588f45029"
    }
   },
   "outputs": [],
   "source": [
    "mask=covid[\"PACIENTE\"]==\"HOSPITALIZADO\"\n",
    "mask1=covid[\"CONFIRMADO\"]==True\n",
    "mask2=covid[\"MUERTE x COVID\"]==True\n",
    "mask3=covid[\"ABREVIATURA\"]==\"MS\"\n",
    "covid[mask&mask1&mask3][\"MUERTE x COVID\"].mean()"
   ]
  },
  {
   "cell_type": "code",
   "execution_count": null,
   "metadata": {
    "extensions": {
     "jupyter_dashboards": {
      "version": 1,
      "views": {
       "grid_default": {},
       "report_default": {
        "hidden": true
       }
      }
     }
    },
    "nbpresent": {
     "id": "65afc77a-da8b-4b0e-9513-db710b636973"
    }
   },
   "outputs": [],
   "source": [
    "covid[mask&mask1][\"MUERTE x COVID\"].value_counts()"
   ]
  },
  {
   "cell_type": "code",
   "execution_count": null,
   "metadata": {
    "extensions": {
     "jupyter_dashboards": {
      "version": 1,
      "views": {
       "grid_default": {},
       "report_default": {
        "hidden": true
       }
      }
     }
    },
    "nbpresent": {
     "id": "7e3e6f9f-2eaa-4ea4-b76b-1a60efa5b949"
    }
   },
   "outputs": [],
   "source": [
    "covid[mask1][\"PACIENTE\"].value_counts()"
   ]
  },
  {
   "cell_type": "code",
   "execution_count": null,
   "metadata": {
    "extensions": {
     "jupyter_dashboards": {
      "version": 1,
      "views": {
       "grid_default": {},
       "report_default": {
        "hidden": true
       }
      }
     }
    },
    "nbpresent": {
     "id": "21d0b1d7-0640-4c55-9434-68affd1da09a"
    }
   },
   "outputs": [],
   "source": [
    "mask=covid[\"EDAD\"].between(47,49)\n",
    "\n",
    "mask1=covid[\"ABREVIATURA\"]==\"MS\"\n",
    "mask2=covid[\"H/M\"]==\"HOMBRE\"\n",
    "xx=covid[mask&mask1&mask2].sort_values(\"FECHA_INGRESO\",ascending=False)[[\"FECHA_INGRESO\",\"EDAD\",\"H/M\",\"MUNICIPIO\",\"RESULTADOS\",\"STATUS\"]]\n",
    "\n",
    "xx[\"STATUS\"].value_counts(dropna=False,normalize=True)"
   ]
  },
  {
   "cell_type": "code",
   "execution_count": null,
   "metadata": {
    "extensions": {
     "jupyter_dashboards": {
      "version": 1,
      "views": {
       "grid_default": {},
       "report_default": {
        "hidden": true
       }
      }
     }
    },
    "nbpresent": {
     "id": "2c244262-d444-479e-aff7-ea9f442508a0"
    }
   },
   "outputs": [],
   "source": [
    "entidad.head()"
   ]
  },
  {
   "cell_type": "code",
   "execution_count": null,
   "metadata": {
    "extensions": {
     "jupyter_dashboards": {
      "version": 1,
      "views": {
       "grid_default": {},
       "report_default": {
        "hidden": true
       }
      }
     }
    },
    "nbpresent": {
     "id": "ccdf444f-8855-4c32-be6a-e949b857e018"
    }
   },
   "outputs": [],
   "source": [
    "mask=entidad[\"ENTIDAD_FEDERATIVA\"]==\"MORELOS\"\n",
    "clave_estado=entidad[mask].iat[0,0]\n",
    "inegi_estado=pd.DataFrame((pd.read_json(\"https://gaia.inegi.org.mx/wscatgeo/mgem/{}\".format(clave_estado),\n",
    "                                        orient='records',lines=True)).iloc[0,0])\n",
    "inegi_estado[\"nom_agem\"]=inegi_estado[\"nom_agem\"].str.upper()\n",
    "inegi_estado[\"ENT&MUN\"]=inegi_estado[\"cve_agee\"]+inegi_estado[\"cve_agem\"]\n",
    "inegi_estado.set_index(\"ENT&MUN\",inplace=True)\n",
    "inegi_estado.drop([\"cve_agee\",\"cve_agem\",\"cve_cab\",\"nom_cab\"],inplace=True,axis=1)\n",
    "inegi_estado.head()"
   ]
  },
  {
   "cell_type": "code",
   "execution_count": null,
   "metadata": {
    "extensions": {
     "jupyter_dashboards": {
      "version": 1,
      "views": {
       "grid_default": {},
       "report_default": {
        "hidden": true
       }
      }
     }
    },
    "nbpresent": {
     "id": "66637fd0-e913-4669-86e4-9a4f09ec8ee3"
    }
   },
   "outputs": [],
   "source": [
    "datos_edo=municipio[municipio[\"ENTIDAD_FEDERATIVA\"]==\"MORELOS\"]\n",
    "datos_edo.head()"
   ]
  },
  {
   "cell_type": "code",
   "execution_count": null,
   "metadata": {
    "extensions": {
     "jupyter_dashboards": {
      "version": 1,
      "views": {
       "grid_default": {},
       "report_default": {
        "hidden": true
       }
      }
     }
    },
    "nbpresent": {
     "id": "525c7f6f-ab71-4401-8444-c0bbef536914"
    },
    "scrolled": true
   },
   "outputs": [],
   "source": [
    "datos_edo=datos_edo.merge(inegi_estado[\"pob\"],left_index=True, right_index=True).set_index(\"MUNICIPIO\")\n",
    "datos_edo.head()"
   ]
  },
  {
   "cell_type": "code",
   "execution_count": null,
   "metadata": {
    "extensions": {
     "jupyter_dashboards": {
      "version": 1,
      "views": {
       "grid_default": {
        "hidden": true
       },
       "report_default": {
        "hidden": true
       }
      }
     }
    },
    "nbpresent": {
     "id": "2c291567-c6bf-4848-952d-b844f4354a47"
    }
   },
   "outputs": [],
   "source": [
    "def resumen_por_municipio2(estado):\n",
    "\n",
    "    mask0=entidad[\"ENTIDAD_FEDERATIVA\"]==estado\n",
    "    edo=entidad[mask0].iat[0,1]\n",
    "    \n",
    "    mask=covid[\"ABREVIATURA\"]==edo\n",
    "    mask2=municipio[\"ABREVIATURA\"]==edo\n",
    "    lista_munic=municipio[\"MUNICIPIO\"][mask2].sort_values()\n",
    "    mask3=covid[\"MUNICIPIO\"].isin(lista_munic)\n",
    "    munc=covid[mask3&mask]\n",
    "\n",
    "    new=munc.pivot_table(values=[\"CONFIRMADO\"],\n",
    "                                 aggfunc=[\"sum\"],index=\"FECHA_INGRESO\",\n",
    "                                 columns=\"MUNICIPIO\")\n",
    "\n",
    "    new.columns=new.columns.get_level_values(2)\n",
    "    new=new.loc[\"2020-01-01\":pd.Timestamp.today()-pd.Timedelta(5,unit=\"D\")]\n",
    "    new=new.fillna(0)\n",
    "\n",
    "    cum=new.cumsum(skipna=True)\n",
    "    rolling=new.rolling(21).mean().round(2)\n",
    "\n",
    "    new_death=munc.pivot_table(values=[\"MUERTE x COVID\"],\n",
    "                                 aggfunc=[\"sum\"],index=\"FECHA_INGRESO\",\n",
    "                                 columns=\"MUNICIPIO\")\n",
    "    new_death.columns=new_death.columns.get_level_values(2)\n",
    "    new_death=new_death.loc[\"2020-01-01\":pd.Timestamp.today()-pd.Timedelta(5,unit=\"D\")]\n",
    "    new_death=new_death.fillna(0)\n",
    "\n",
    "    cum_death=new_death.cumsum()\n",
    "    roll_death=new_death.rolling(21).mean().round(2)\n",
    "\n",
    "\n",
    "    resumen=municipio[\"MUNICIPIO\"][mask2].sort_values().to_frame().set_index(\"MUNICIPIO\")\n",
    "    resumen=resumen.drop(\"NO ESPECIFICADO\")\n",
    "    #resumen=resumen.merge(datos_edo[\"pob\"],left_index=True, right_index=True)\n",
    "\n",
    "    NUEVOS_CASOS=new.iloc[-1,:]\n",
    "    NUEVOS_CASOS.name=\"NUEVOS CASOS\"\n",
    "    resumen=resumen.merge(NUEVOS_CASOS, left_index=True, right_index=True)\n",
    "\n",
    "    PROMEDIO_NUEVOS_CASOS=rolling.iloc[-1,:].round(2)\n",
    "    PROMEDIO_NUEVOS_CASOS.name=\"PROMEDIO NUEVOS CASOS\"\n",
    "    resumen=resumen.merge(PROMEDIO_NUEVOS_CASOS, left_index=True, right_index=True)\n",
    "\n",
    "    CAMBIO_EN_PROMEDIO_DIARIO=(rolling.iloc[-1,:]-rolling.iloc[-5,:])/rolling.iloc[-5,:].round(2)\n",
    "    CAMBIO_EN_PROMEDIO_DIARIO.name=\"CAMBIO EN PROMEDIO DIARIO\"\n",
    "    resumen=resumen.merge(CAMBIO_EN_PROMEDIO_DIARIO, left_index=True, right_index=True)\n",
    "\n",
    "    CASOS_TOTALES=cum.iloc[-1,:]\n",
    "    CASOS_TOTALES.name=\"CASOS TOTALES\"\n",
    "    resumen=resumen.merge(CASOS_TOTALES, left_index=True, right_index=True)\n",
    "\n",
    "    ULTIMOS_DECESOS=new_death.iloc[-1,:]\n",
    "    ULTIMOS_DECESOS.name=\"ULTIMOS DECESOS\"\n",
    "    resumen=resumen.merge(ULTIMOS_DECESOS, left_index=True, right_index=True)\n",
    "\n",
    "    PROMEDIO_MUERTES=roll_death.iloc[-1,:].round(2)\n",
    "    PROMEDIO_MUERTES.name=\"PROMEDIO MUERTES\"\n",
    "    resumen=resumen.merge(PROMEDIO_MUERTES, left_index=True, right_index=True)\n",
    "\n",
    "    CAMBIO_EN_PROMEDIO_DE_DECESOS=(roll_death.iloc[-1,:]-roll_death.iloc[-5,:])/roll_death.iloc[-5,:].round(2)\n",
    "    CAMBIO_EN_PROMEDIO_DE_DECESOS.name=\"CAMBIO EN PROMEDIO DE DECESOS\"\n",
    "    resumen=resumen.merge(CAMBIO_EN_PROMEDIO_DE_DECESOS, left_index=True, right_index=True)\n",
    "\n",
    "    DECESOS_TOTALES=cum_death.iloc[-1,:]\n",
    "    DECESOS_TOTALES.name=\"DECESOS TOTALES\"\n",
    "    resumen=resumen.merge(DECESOS_TOTALES, left_index=True, right_index=True)\n",
    "\n",
    "\n",
    "    resumen[\"MORTALITY\"]=resumen[\"DECESOS TOTALES\"]/resumen[\"CASOS TOTALES\"]\n",
    "    resumen=resumen.replace([np.inf,-np.inf],0)\n",
    "\n",
    "    resumen=resumen.style.format({'MORTALITY':\"{:.2%}\",\"CAMBIO EN PROMEDIO DIARIO\":\"{:.2%}\"\n",
    "                             ,\"CAMBIO EN PROMEDIO DE DECESOS\":\"{:.2%}\",\"NUEVOS CASOS\":'{:,}',\"CASOS TOTALES\":'{:,}',\n",
    "                           \"PROMEDIO NUEVOS CASOS\":'{:,}',\"ULTIMOS DECESOS\":'{:,}',\"PROMEDIO MUERTES\":'{:,}',\n",
    "                           \"DECESOS TOTALES\":'{:,}',\"POBLACION\":'{:,}'},na_rep=\"-\")\n",
    "\n",
    "    from matplotlib import cm\n",
    "    cm1=sns.diverging_palette(220, 22, sep=20, as_cmap=True)\n",
    "    cm=sns.diverging_palette(220, 20, sep=20, as_cmap=True)\n",
    "    resumen.background_gradient(cmap=cm1,axis=0,low=-0.1,high=0.3, \n",
    "                            subset=[\"MORTALITY\",\"CAMBIO EN PROMEDIO DE DECESOS\",\n",
    "                                    \"CAMBIO EN PROMEDIO DIARIO\"])\n",
    "    resumen.background_gradient(cmap=cm,axis=0,low=-0.3,high=0.3, \n",
    "                            subset=[\"CASOS TOTALES\", \"NUEVOS CASOS\",\"DECESOS TOTALES\"])\n",
    "        \n",
    "    return resumen"
   ]
  },
  {
   "cell_type": "code",
   "execution_count": null,
   "metadata": {
    "extensions": {
     "jupyter_dashboards": {
      "version": 1,
      "views": {
       "grid_default": {},
       "report_default": {
        "hidden": true
       }
      }
     }
    },
    "nbpresent": {
     "id": "2fcffa77-c809-47bc-b8c4-f4f06a0c226a"
    }
   },
   "outputs": [],
   "source": [
    "resumen_por_municipio2(\"CDMX\")"
   ]
  },
  {
   "cell_type": "code",
   "execution_count": null,
   "metadata": {
    "extensions": {
     "jupyter_dashboards": {
      "version": 1,
      "views": {
       "grid_default": {},
       "report_default": {
        "hidden": true
       }
      }
     }
    },
    "nbpresent": {
     "id": "011b4da1-3ab6-43f9-9bb7-7367b70f83b1"
    }
   },
   "outputs": [],
   "source": [
    "pd.read_excel(\"Catalogos_0412.xlsx\",\"Catálogo MUNICIPIOS\", dtype='object')"
   ]
  },
  {
   "cell_type": "code",
   "execution_count": null,
   "metadata": {
    "extensions": {
     "jupyter_dashboards": {
      "version": 1,
      "views": {
       "grid_default": {},
       "report_default": {
        "hidden": true
       }
      }
     }
    },
    "nbpresent": {
     "id": "655cb61a-4c09-494d-81c4-f42a55b76dba"
    }
   },
   "outputs": [],
   "source": []
  }
 ],
 "metadata": {
  "extensions": {
   "jupyter_dashboards": {
    "activeView": "report_default",
    "version": 1,
    "views": {
     "grid_default": {
      "cellMargin": 10,
      "defaultCellHeight": 20,
      "maxColumns": 12,
      "name": "grid",
      "type": "grid"
     },
     "report_default": {
      "name": "report",
      "type": "report"
     }
    }
   }
  },
  "kernelspec": {
   "display_name": "Python 3",
   "language": "python",
   "name": "python3"
  },
  "language_info": {
   "codemirror_mode": {
    "name": "ipython",
    "version": 3
   },
   "file_extension": ".py",
   "mimetype": "text/x-python",
   "name": "python",
   "nbconvert_exporter": "python",
   "pygments_lexer": "ipython3",
   "version": "3.7.0"
  },
  "widgets": {
   "application/vnd.jupyter.widget-state+json": {
    "state": {},
    "version_major": 2,
    "version_minor": 0
   }
  }
 },
 "nbformat": 4,
 "nbformat_minor": 4
}
